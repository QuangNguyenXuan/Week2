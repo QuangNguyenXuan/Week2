{
 "cells": [
  {
   "cell_type": "markdown",
   "metadata": {},
   "source": [
    "### OpenCV"
   ]
  },
  {
   "cell_type": "code",
   "execution_count": 1,
   "metadata": {},
   "outputs": [
    {
     "name": "stdout",
     "output_type": "stream",
     "text": [
      "<class 'numpy.ndarray'>\n"
     ]
    },
    {
     "data": {
      "text/plain": [
       "True"
      ]
     },
     "execution_count": 1,
     "metadata": {},
     "output_type": "execute_result"
    }
   ],
   "source": [
    "import numpy as np\n",
    "import cv2\n",
    "\n",
    "# read image and convert to grayscale\n",
    "img = cv2.imread('nature.png', 0)\n",
    "\n",
    "# compute sobel-x\n",
    "sobelx = cv2.Sobel(img, cv2.CV_64F,1,0)\n",
    "print(type(sobelx))\n",
    "\n",
    "# compute sobel-y\n",
    "sobely = cv2.Sobel(img, cv2.CV_64F,0,1)\n",
    "\n",
    "# save results\n",
    "cv2.imwrite('nature_edge_x.jpg', sobelx)\n",
    "cv2.imwrite('nature_edge_y.jpg', sobely)"
   ]
  },
  {
   "cell_type": "code",
   "execution_count": null,
   "metadata": {},
   "outputs": [],
   "source": []
  },
  {
   "cell_type": "markdown",
   "metadata": {},
   "source": [
    "### Implementation - Using abs"
   ]
  },
  {
   "cell_type": "code",
   "execution_count": 1,
   "metadata": {},
   "outputs": [
    {
     "name": "stdout",
     "output_type": "stream",
     "text": [
      "height: 500\n",
      "width: 1200\n"
     ]
    }
   ],
   "source": [
    "# load an image\n",
    "import cv2\n",
    "import math\n",
    "import numpy as np\n",
    "\n",
    "image = cv2.imread('nature.jpg', 0).tolist()\n",
    "\n",
    "height = len(image)\n",
    "width = len(image[0])\n",
    "\n",
    "print(f'height: {height}')\n",
    "print(f'width: {width}')"
   ]
  },
  {
   "cell_type": "code",
   "execution_count": null,
   "metadata": {},
   "outputs": [],
   "source": []
  },
  {
   "cell_type": "code",
   "execution_count": 19,
   "metadata": {},
   "outputs": [],
   "source": [
    "def derivative_x(data, height, width):    \n",
    "    result = [[0]*width for _ in range(height)]\n",
    "    \n",
    "    # get rows and compute derivative\n",
    "    for i in range(height):\n",
    "        \n",
    "        # for each row\n",
    "        for j in range(width-1):\n",
    "            d_value = data[i][j+1] - data[i][j]\n",
    "            result[i][j] = d_value\n",
    "            \n",
    "    return result"
   ]
  },
  {
   "cell_type": "code",
   "execution_count": null,
   "metadata": {},
   "outputs": [],
   "source": []
  },
  {
   "cell_type": "code",
   "execution_count": 2,
   "metadata": {},
   "outputs": [],
   "source": [
    "def derivative_x(data, height, width):    \n",
    "    result = [[0]*width for _ in range(height)]\n",
    "    \n",
    "    # get rows and compute derivative\n",
    "    for i in range(height):\n",
    "        \n",
    "        # for each row\n",
    "        for j in range(width-1):\n",
    "            d_value = data[i][j+1] - data[i][j]\n",
    "            \n",
    "            # d_value can be positive or negative\n",
    "            # process d_value to adapt to an image\n",
    "            result[i][j] = abs(d_value)\n",
    "            \n",
    "    return result"
   ]
  },
  {
   "cell_type": "code",
   "execution_count": 3,
   "metadata": {},
   "outputs": [
    {
     "name": "stdout",
     "output_type": "stream",
     "text": [
      "83\n",
      "0\n"
     ]
    },
    {
     "data": {
      "text/plain": [
       "True"
      ]
     },
     "execution_count": 3,
     "metadata": {},
     "output_type": "execute_result"
    }
   ],
   "source": [
    "image_dx = derivative_x(image, height, width)\n",
    "print(np.max(image_dx))\n",
    "print(np.min(image_dx))\n",
    "cv2.imwrite('1.image_dx.jpg', np.array(image_dx))"
   ]
  },
  {
   "cell_type": "code",
   "execution_count": null,
   "metadata": {},
   "outputs": [],
   "source": []
  },
  {
   "cell_type": "code",
   "execution_count": 22,
   "metadata": {},
   "outputs": [],
   "source": [
    "def derivative_y(data, height, width):    \n",
    "    result = [[0]*width for _ in range(height)]\n",
    "    \n",
    "    # get columns and compute derivative\n",
    "    for j in range(width):\n",
    "        \n",
    "        # for each column\n",
    "        for i in range(height-1):\n",
    "            d_value = data[i+1][j] - data[i][j]\n",
    "            \n",
    "            # d_value can be positive or negative\n",
    "            # process d_value to adapt to an image\n",
    "            result[i][j] = abs(d_value)*3\n",
    "            \n",
    "    return result"
   ]
  },
  {
   "cell_type": "code",
   "execution_count": 23,
   "metadata": {},
   "outputs": [
    {
     "name": "stdout",
     "output_type": "stream",
     "text": [
      "252\n",
      "0\n"
     ]
    },
    {
     "data": {
      "text/plain": [
       "True"
      ]
     },
     "execution_count": 23,
     "metadata": {},
     "output_type": "execute_result"
    }
   ],
   "source": [
    "image_dy = derivative_y(image, height, width)\n",
    "print(np.max(image_dy))\n",
    "print(np.min(image_dy))\n",
    "cv2.imwrite('image_dy.jpg', np.array(image_dy))"
   ]
  },
  {
   "cell_type": "code",
   "execution_count": null,
   "metadata": {},
   "outputs": [],
   "source": []
  }
 ],
 "metadata": {
  "kernelspec": {
   "display_name": "Python 3 (ipykernel)",
   "language": "python",
   "name": "python3"
  },
  "language_info": {
   "codemirror_mode": {
    "name": "ipython",
    "version": 3
   },
   "file_extension": ".py",
   "mimetype": "text/x-python",
   "name": "python",
   "nbconvert_exporter": "python",
   "pygments_lexer": "ipython3",
   "version": "3.9.13"
  }
 },
 "nbformat": 4,
 "nbformat_minor": 2
}
