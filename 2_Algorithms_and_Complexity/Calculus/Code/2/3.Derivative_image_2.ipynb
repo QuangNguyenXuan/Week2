{
 "cells": [
  {
   "cell_type": "markdown",
   "metadata": {},
   "source": [
    "### Implementation (đạo hàm một bên)"
   ]
  },
  {
   "cell_type": "code",
   "execution_count": 1,
   "metadata": {},
   "outputs": [
    {
     "name": "stdout",
     "output_type": "stream",
     "text": [
      "height: 500\n",
      "width: 1200\n"
     ]
    }
   ],
   "source": [
    "# load an image\n",
    "import cv2\n",
    "import math\n",
    "import numpy as np\n",
    "\n",
    "image = cv2.imread('nature.jpg', 0).tolist()\n",
    "\n",
    "height = len(image)\n",
    "width = len(image[0])\n",
    "\n",
    "print(f'height: {height}')\n",
    "print(f'width: {width}')"
   ]
  },
  {
   "cell_type": "code",
   "execution_count": null,
   "metadata": {},
   "outputs": [],
   "source": []
  },
  {
   "cell_type": "code",
   "execution_count": 2,
   "metadata": {},
   "outputs": [],
   "source": [
    "def derivative_x(data, height, width):    \n",
    "    result = [[0]*width for _ in range(height)]\n",
    "    \n",
    "    # get rows and compute derivative\n",
    "    for i in range(height):\n",
    "        \n",
    "        # for each row\n",
    "        for j in range(width-1):\n",
    "            d_value = data[i][j+1] - data[i][j]\n",
    "            \n",
    "            # d_value can be positive or negative\n",
    "            # process d_value to adapt to an image\n",
    "            d_value = d_value + 127.5\n",
    "            d_value = max(d_value, 0)\n",
    "            d_value = min(d_value, 255)\n",
    "            result[i][j] = d_value\n",
    "            \n",
    "    return result"
   ]
  },
  {
   "cell_type": "code",
   "execution_count": 3,
   "metadata": {},
   "outputs": [
    {
     "name": "stdout",
     "output_type": "stream",
     "text": [
      "198.5\n",
      "0.0\n"
     ]
    },
    {
     "data": {
      "text/plain": [
       "True"
      ]
     },
     "execution_count": 3,
     "metadata": {},
     "output_type": "execute_result"
    }
   ],
   "source": [
    "image_dx = derivative_x(image, height, width)\n",
    "print(np.max(image_dx))\n",
    "print(np.min(image_dx))\n",
    "cv2.imwrite('2.image_dx.jpg', np.array(image_dx))"
   ]
  },
  {
   "cell_type": "code",
   "execution_count": null,
   "metadata": {},
   "outputs": [],
   "source": []
  },
  {
   "cell_type": "code",
   "execution_count": 4,
   "metadata": {},
   "outputs": [],
   "source": [
    "def derivative_y(data, height, width):    \n",
    "    result = [[0]*width for _ in range(height)]\n",
    "    \n",
    "    # get columns and compute derivative\n",
    "    for j in range(width):\n",
    "        \n",
    "        # for each column\n",
    "        for i in range(height-1):\n",
    "            d_value = data[i+1][j] - data[i][j]\n",
    "            \n",
    "            # d_value can be positive or negative\n",
    "            # process d_value to adapt to an image\n",
    "            d_value = d_value + 127.5\n",
    "            d_value = max(d_value, 0)\n",
    "            d_value = min(d_value, 255)\n",
    "            result[i][j] = d_value\n",
    "            \n",
    "    return result"
   ]
  },
  {
   "cell_type": "code",
   "execution_count": 5,
   "metadata": {},
   "outputs": [
    {
     "name": "stdout",
     "output_type": "stream",
     "text": [
      "211.5\n",
      "0.0\n"
     ]
    },
    {
     "data": {
      "text/plain": [
       "True"
      ]
     },
     "execution_count": 5,
     "metadata": {},
     "output_type": "execute_result"
    }
   ],
   "source": [
    "image_dy = derivative_y(image, height, width)\n",
    "print(np.max(image_dy))\n",
    "print(np.min(image_dy))\n",
    "cv2.imwrite('image_dy.jpg', np.array(image_dy))"
   ]
  },
  {
   "cell_type": "code",
   "execution_count": null,
   "metadata": {},
   "outputs": [],
   "source": []
  }
 ],
 "metadata": {
  "kernelspec": {
   "display_name": "Python 3 (ipykernel)",
   "language": "python",
   "name": "python3"
  },
  "language_info": {
   "codemirror_mode": {
    "name": "ipython",
    "version": 3
   },
   "file_extension": ".py",
   "mimetype": "text/x-python",
   "name": "python",
   "nbconvert_exporter": "python",
   "pygments_lexer": "ipython3",
   "version": "3.9.13"
  }
 },
 "nbformat": 4,
 "nbformat_minor": 2
}
