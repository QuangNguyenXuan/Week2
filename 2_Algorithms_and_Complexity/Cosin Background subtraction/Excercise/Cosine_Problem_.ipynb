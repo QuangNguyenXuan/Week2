{
  "nbformat": 4,
  "nbformat_minor": 0,
  "metadata": {
    "colab": {
      "provenance": []
    },
    "kernelspec": {
      "name": "python3",
      "display_name": "Python 3"
    },
    "language_info": {
      "name": "python"
    }
  },
  "cells": [
    {
      "cell_type": "code",
      "execution_count": null,
      "metadata": {
        "id": "2St1Us_YoHYk"
      },
      "outputs": [],
      "source": [
        "import numpy as np\n",
        "def computeVectorLength(vector):\n",
        "    # ************* Your code *****************\n",
        "  return len_of_vector\n"
      ]
    },
    {
      "cell_type": "code",
      "source": [
        "### Question 1\n",
        "vector = np.array([-2, 4, 9, 21])\n",
        "result = computeVectorLength([vector])\n",
        "print(round(result,2))"
      ],
      "metadata": {
        "colab": {
          "base_uri": "https://localhost:8080/"
        },
        "id": "thLSUFrOopew",
        "outputId": "4a7aa3c9-d1ea-4941-e348-386d22828f9d"
      },
      "execution_count": null,
      "outputs": [
        {
          "output_type": "stream",
          "name": "stdout",
          "text": [
            "23.28\n"
          ]
        }
      ]
    },
    {
      "cell_type": "code",
      "source": [
        "def computeDotProduct(vector1, vector2):\n",
        "  # ************* Your code *****************\n",
        "  return result"
      ],
      "metadata": {
        "id": "WYyzvmVRDsNV"
      },
      "execution_count": null,
      "outputs": []
    },
    {
      "cell_type": "code",
      "source": [
        "### Question 2\n",
        "v1 = np.array([0, 1, -1, 2])\n",
        "v2 = np.array([2, 5, 1, 0])\n",
        "result = computeDotProduct(v1, v2)\n",
        "print(round(result,2))"
      ],
      "metadata": {
        "colab": {
          "base_uri": "https://localhost:8080/"
        },
        "id": "HqF_TKfnLQaN",
        "outputId": "83d6387b-e681-4108-8d4c-47aa2cee7e46"
      },
      "execution_count": null,
      "outputs": [
        {
          "output_type": "stream",
          "name": "stdout",
          "text": [
            "4\n"
          ]
        }
      ]
    },
    {
      "cell_type": "code",
      "source": [
        "### Question 3\n",
        "\n",
        "x = np.array([[1, 2],\n",
        "              [3, 4]])\n",
        "k = np.array([1, 2])\n",
        "print('result  \\n', computeDotProduct(x, k))\n",
        "print('result 1 \\n', x.dot(k))"
      ],
      "metadata": {
        "colab": {
          "base_uri": "https://localhost:8080/"
        },
        "id": "02n4c1ijMAtY",
        "outputId": "74d30630-fc85-41b5-cfd1-46b4d1989edf"
      },
      "execution_count": null,
      "outputs": [
        {
          "output_type": "stream",
          "name": "stdout",
          "text": [
            "result  \n",
            " [ 5 11]\n",
            "result 1 \n",
            " [ 5 11]\n"
          ]
        }
      ]
    },
    {
      "cell_type": "code",
      "source": [
        "### Question 4\n",
        "\n",
        "x = np.array([[-1, 2],\n",
        "              [3, -4]])\n",
        "k = np.array([1, 2])\n",
        "print('result \\n', x@k)"
      ],
      "metadata": {
        "colab": {
          "base_uri": "https://localhost:8080/"
        },
        "id": "ASKnQuP_M5AO",
        "outputId": "9e905bf2-8475-49fd-d1b2-5f2158792430"
      },
      "execution_count": null,
      "outputs": [
        {
          "output_type": "stream",
          "name": "stdout",
          "text": [
            "result \n",
            " [ 3 -5]\n"
          ]
        }
      ]
    },
    {
      "cell_type": "code",
      "source": [
        "def matrix_multi_vector(matrix, vector):\n",
        "    # ************* Your code *****************\n",
        "  return result"
      ],
      "metadata": {
        "id": "rOpM0ImSOhfr"
      },
      "execution_count": null,
      "outputs": []
    },
    {
      "cell_type": "code",
      "source": [
        "### Question 5\n",
        "m = np.array([[-1, 1, 1], [0, -4, 9]])\n",
        "v = np.array([0, 2, 1])\n",
        "result = matrix_multi_vector(m, v)\n",
        "print(result)"
      ],
      "metadata": {
        "colab": {
          "base_uri": "https://localhost:8080/"
        },
        "id": "kROHrZDCOoGN",
        "outputId": "d9133d39-84c5-438b-8a2e-0ebb93872b8b"
      },
      "execution_count": null,
      "outputs": [
        {
          "output_type": "stream",
          "name": "stdout",
          "text": [
            "[3 1]\n"
          ]
        }
      ]
    },
    {
      "cell_type": "code",
      "source": [
        "def matrix_multi_matrix(matrix1, matrix2):\n",
        "    # ************* Your code ****************\n",
        "  return result"
      ],
      "metadata": {
        "id": "eovfz88GHHHu"
      },
      "execution_count": null,
      "outputs": []
    },
    {
      "cell_type": "code",
      "source": [
        "### Question 6\n",
        "m1 = np.array([[0, 1, 2], [2, -3, 1]])\n",
        "m2 = np.array([[1, -3],[6, 1], [0, -1]])\n",
        "result = matrix_multi_matrix(m1, m2)\n",
        "print(result)"
      ],
      "metadata": {
        "colab": {
          "base_uri": "https://localhost:8080/"
        },
        "id": "Sf9ZSqiIJGEe",
        "outputId": "6b6a1ea6-a02a-4b5f-8e63-f3a97cb93b0c"
      },
      "execution_count": null,
      "outputs": [
        {
          "output_type": "stream",
          "name": "stdout",
          "text": [
            "[[  6  -1]\n",
            " [-16 -10]]\n"
          ]
        }
      ]
    },
    {
      "cell_type": "code",
      "source": [
        "### Question 7\n",
        "m1 = np.eye(3)\n",
        "m2 = np.array([[1, 1, 1],[2, 2, 2], [3, 3, 3]])\n",
        "result = m1@m2\n",
        "print(result)"
      ],
      "metadata": {
        "colab": {
          "base_uri": "https://localhost:8080/"
        },
        "id": "oT_pNqoVOtFF",
        "outputId": "229d8cae-da8d-4a2c-a071-b751da88ff5b"
      },
      "execution_count": null,
      "outputs": [
        {
          "output_type": "stream",
          "name": "stdout",
          "text": [
            "[[1. 1. 1.]\n",
            " [2. 2. 2.]\n",
            " [3. 3. 3.]]\n"
          ]
        }
      ]
    },
    {
      "cell_type": "code",
      "source": [
        "### Question 8\n",
        "m1 = np.eye(2)\n",
        "m1 = np.reshape(m1,(-1,4))[0]\n",
        "m2 = np.array([[1, 1, 1, 1],[2, 2, 2, 2], [3, 3, 3, 3], [4, 4, 4, 4]])\n",
        "result = m1@m2\n",
        "print(result)"
      ],
      "metadata": {
        "colab": {
          "base_uri": "https://localhost:8080/"
        },
        "id": "RbPzspKWQBqW",
        "outputId": "21ddaffe-3a37-4efc-e11b-085c7c3c7983"
      },
      "execution_count": null,
      "outputs": [
        {
          "output_type": "stream",
          "name": "stdout",
          "text": [
            "[5. 5. 5. 5.]\n"
          ]
        }
      ]
    },
    {
      "cell_type": "code",
      "source": [
        "### Question 9\n",
        "m1 = np.array([[1, 2], [3, 4]])\n",
        "m1 = np.reshape(m1,(-1,4), \"F\")[0]\n",
        "m2 = np.array([[1, 1, 1, 1],[2, 2, 2, 2], [3, 3, 3, 3], [4, 4, 4, 4]])\n",
        "result = m1@m2\n",
        "print(result)"
      ],
      "metadata": {
        "colab": {
          "base_uri": "https://localhost:8080/"
        },
        "id": "OEnBR6orSO9r",
        "outputId": "e5aa10c3-49c9-4a79-c683-506adebd8cdf"
      },
      "execution_count": null,
      "outputs": [
        {
          "output_type": "stream",
          "name": "stdout",
          "text": [
            "[29 29 29 29]\n"
          ]
        }
      ]
    },
    {
      "cell_type": "code",
      "source": [
        "def inverse_matrix(matrix):\n",
        "  # ************* Your code *****************\n",
        "  return result"
      ],
      "metadata": {
        "id": "ak6XAhZFVOlY"
      },
      "execution_count": null,
      "outputs": []
    },
    {
      "cell_type": "code",
      "source": [
        "### Question 10\n",
        "m1 = np.array([[-2, 6], [8, -4]])\n",
        "result = inverse_matrix(m1)\n",
        "print(result)"
      ],
      "metadata": {
        "colab": {
          "base_uri": "https://localhost:8080/"
        },
        "id": "GeK71yaMVa-L",
        "outputId": "3377215e-f31a-49c9-8bc4-09b62bbeda78"
      },
      "execution_count": null,
      "outputs": [
        {
          "output_type": "stream",
          "name": "stdout",
          "text": [
            "[[0.1  0.15]\n",
            " [0.2  0.05]]\n"
          ]
        }
      ]
    },
    {
      "cell_type": "code",
      "source": [
        "def compute_eigenvalues_eigenvectors(matrix):\n",
        "    # ************* Your code *****************\n",
        "  return eigenvalues,eigenvectors"
      ],
      "metadata": {
        "id": "PhjSkuucZYCD"
      },
      "execution_count": null,
      "outputs": []
    },
    {
      "cell_type": "code",
      "source": [
        "### Question 11\n",
        "matrix = np.array([[0.9, 0.2], [0.1, 0.8]])\n",
        "eigenvalues, eigenvectors = compute_eigenvalues_eigenvectors(matrix)\n",
        "print(eigenvectors)\n"
      ],
      "metadata": {
        "colab": {
          "base_uri": "https://localhost:8080/"
        },
        "id": "3XmCQWg4YuF9",
        "outputId": "625529fa-7d11-4e51-a76e-9a70e1d837ff"
      },
      "execution_count": null,
      "outputs": [
        {
          "output_type": "stream",
          "name": "stdout",
          "text": [
            "[[ 0.89442719 -0.70710678]\n",
            " [ 0.4472136   0.70710678]]\n"
          ]
        }
      ]
    },
    {
      "cell_type": "code",
      "source": [
        "import numpy as np\n",
        "from numpy import dot\n",
        "from numpy.linalg import norm\n",
        "\n",
        "def compute_cosine(v1, v2):\n",
        "    # ************* Your code *****************\n",
        "\n",
        "  return cos_sim"
      ],
      "metadata": {
        "id": "CPBVzmaxbtD1"
      },
      "execution_count": null,
      "outputs": []
    },
    {
      "cell_type": "code",
      "source": [
        "### Question 12\n",
        "x = np.array([1, 2, 3, 4])\n",
        "y = np.array([1, 0, 3, 0])\n",
        "result = compute_cosine(x,y)\n",
        "print(round(result, 3))\n"
      ],
      "metadata": {
        "colab": {
          "base_uri": "https://localhost:8080/"
        },
        "id": "kGxGFGPvcHBc",
        "outputId": "7951b3b8-706b-48f5-9eb6-70d513e1e063"
      },
      "execution_count": null,
      "outputs": [
        {
          "output_type": "stream",
          "name": "stdout",
          "text": [
            "0.577\n"
          ]
        }
      ]
    }
  ]
}