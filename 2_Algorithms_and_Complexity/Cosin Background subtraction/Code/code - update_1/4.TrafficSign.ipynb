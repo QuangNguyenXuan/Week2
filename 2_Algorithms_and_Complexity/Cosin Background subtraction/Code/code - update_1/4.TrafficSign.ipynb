{
 "cells": [
  {
   "cell_type": "markdown",
   "id": "0fb84ea7",
   "metadata": {},
   "source": [
    "### Traffic sign"
   ]
  },
  {
   "cell_type": "code",
   "execution_count": 15,
   "id": "f5721bc3",
   "metadata": {},
   "outputs": [],
   "source": [
    "import numpy as np\n",
    "import cv2\n",
    "import matplotlib.pyplot as plt\n",
    "\n",
    "\n",
    "# read a color image\n",
    "img1 = cv2.imread('sign1.png')\n",
    "img1 = cv2.resize(img1, (100, 100))\n",
    "\n",
    "img2 = cv2.imread('sign2.png')\n",
    "img2 = cv2.resize(img2, (100, 100))\n",
    "\n",
    "img3 = cv2.imread('sign3.png')\n",
    "img3 = cv2.resize(img3, (100, 100))\n",
    "\n",
    "# show this image\n",
    "cv2.imshow('img1', img1)\n",
    "cv2.imshow('img2', img2)\n",
    "cv2.imshow('img3', img3)\n",
    "cv2.waitKey(0)\n",
    "cv2.destroyAllWindows()"
   ]
  },
  {
   "cell_type": "code",
   "execution_count": null,
   "id": "fd4bac10",
   "metadata": {},
   "outputs": [],
   "source": []
  },
  {
   "cell_type": "code",
   "execution_count": 17,
   "id": "fad52387",
   "metadata": {},
   "outputs": [
    {
     "name": "stdout",
     "output_type": "stream",
     "text": [
      "143.7667\n"
     ]
    }
   ],
   "source": [
    "error = np.sum(np.abs(img1 - img2)) / (100*100)\n",
    "print(error)"
   ]
  },
  {
   "cell_type": "code",
   "execution_count": 18,
   "id": "afe5d2b8",
   "metadata": {},
   "outputs": [
    {
     "name": "stdout",
     "output_type": "stream",
     "text": [
      "515.5208\n"
     ]
    }
   ],
   "source": [
    "error = np.sum(np.abs(img1 - img3)) / (100*100)\n",
    "print(error)"
   ]
  },
  {
   "cell_type": "code",
   "execution_count": null,
   "id": "a878f179",
   "metadata": {},
   "outputs": [],
   "source": []
  },
  {
   "cell_type": "code",
   "execution_count": 20,
   "id": "f835f08f",
   "metadata": {},
   "outputs": [],
   "source": [
    "from numpy.linalg import norm\n",
    "\n",
    "def cos_sim(x, y):\n",
    "    x = x.flatten()\n",
    "    y = y.flatten()\n",
    "    \n",
    "    x = x.astype(np.float64)\n",
    "    y = y.astype(np.float64)\n",
    "    \n",
    "    cos_sim = np.dot(x, y) / (norm(x)*norm(y))\n",
    "    return cos_sim"
   ]
  },
  {
   "cell_type": "code",
   "execution_count": 22,
   "id": "146fa345",
   "metadata": {},
   "outputs": [
    {
     "name": "stdout",
     "output_type": "stream",
     "text": [
      "0.9592378761254174\n"
     ]
    }
   ],
   "source": [
    "cs = cos_sim(img1, img2)\n",
    "print(cs)"
   ]
  },
  {
   "cell_type": "code",
   "execution_count": 23,
   "id": "a6718559",
   "metadata": {},
   "outputs": [
    {
     "name": "stdout",
     "output_type": "stream",
     "text": [
      "0.5750955260394579\n"
     ]
    }
   ],
   "source": [
    "cs = cos_sim(img1, img3)\n",
    "print(cs)"
   ]
  },
  {
   "cell_type": "code",
   "execution_count": null,
   "id": "cc2cd1a6",
   "metadata": {},
   "outputs": [],
   "source": []
  },
  {
   "cell_type": "code",
   "execution_count": null,
   "id": "04edb229",
   "metadata": {},
   "outputs": [],
   "source": []
  }
 ],
 "metadata": {
  "kernelspec": {
   "display_name": "Python 3 (ipykernel)",
   "language": "python",
   "name": "python3"
  },
  "language_info": {
   "codemirror_mode": {
    "name": "ipython",
    "version": 3
   },
   "file_extension": ".py",
   "mimetype": "text/x-python",
   "name": "python",
   "nbconvert_exporter": "python",
   "pygments_lexer": "ipython3",
   "version": "3.9.13"
  }
 },
 "nbformat": 4,
 "nbformat_minor": 5
}
