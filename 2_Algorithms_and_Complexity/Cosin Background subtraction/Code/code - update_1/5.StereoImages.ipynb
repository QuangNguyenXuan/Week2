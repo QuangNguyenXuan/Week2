{
 "cells": [
  {
   "cell_type": "markdown",
   "id": "4844b894",
   "metadata": {},
   "source": [
    "### stereo images"
   ]
  },
  {
   "cell_type": "code",
   "execution_count": 35,
   "id": "f5522c22",
   "metadata": {},
   "outputs": [],
   "source": [
    "import numpy as np\n",
    "import cv2\n",
    "import matplotlib.pyplot as plt\n",
    "\n",
    "\n",
    "# read a color image\n",
    "query = cv2.imread('query.png')\n",
    "query = cv2.resize(query, (200, 200))\n",
    "\n",
    "data1 = cv2.imread('data1.png')\n",
    "data1 = cv2.resize(data1, (200, 200))\n",
    "\n",
    "data2 = cv2.imread('data2.png')\n",
    "data2 = cv2.resize(data2, (200, 200))\n",
    "\n",
    "# show this image\n",
    "cv2.imshow('query', query)\n",
    "cv2.imshow('data1', data1)\n",
    "cv2.imshow('data2', data2)\n",
    "cv2.waitKey(0)\n",
    "cv2.destroyAllWindows()"
   ]
  },
  {
   "cell_type": "code",
   "execution_count": null,
   "id": "00867d0e",
   "metadata": {},
   "outputs": [],
   "source": []
  },
  {
   "cell_type": "code",
   "execution_count": 36,
   "id": "d7d55e88",
   "metadata": {},
   "outputs": [],
   "source": [
    "from numpy.linalg import norm\n",
    "\n",
    "def cos_sim(x, y):\n",
    "    x = x.flatten()\n",
    "    y = y.flatten()\n",
    "    \n",
    "    x = x.astype(np.float64)\n",
    "    y = y.astype(np.float64)\n",
    "    \n",
    "    cos_sim = np.dot(x, y) / (norm(x)*norm(y))\n",
    "    return cos_sim"
   ]
  },
  {
   "cell_type": "code",
   "execution_count": 37,
   "id": "37b4bdd0",
   "metadata": {},
   "outputs": [
    {
     "name": "stdout",
     "output_type": "stream",
     "text": [
      "0.9667477214684476\n"
     ]
    }
   ],
   "source": [
    "cs = cos_sim(query, data2)\n",
    "print(cs)"
   ]
  },
  {
   "cell_type": "code",
   "execution_count": 38,
   "id": "6a772f4d",
   "metadata": {},
   "outputs": [
    {
     "name": "stdout",
     "output_type": "stream",
     "text": [
      "0.9594883016099899\n"
     ]
    }
   ],
   "source": [
    "cs = cos_sim(query, data3)\n",
    "print(cs)"
   ]
  },
  {
   "cell_type": "code",
   "execution_count": null,
   "id": "18774192",
   "metadata": {},
   "outputs": [],
   "source": []
  },
  {
   "cell_type": "code",
   "execution_count": null,
   "id": "c131e79f",
   "metadata": {},
   "outputs": [],
   "source": []
  },
  {
   "cell_type": "code",
   "execution_count": 39,
   "id": "b7b15a28",
   "metadata": {},
   "outputs": [],
   "source": [
    "# read a color image\n",
    "query = cv2.imread('query.png')\n",
    "query = cv2.resize(query, (200, 200))\n",
    "\n",
    "data1 = cv2.imread('data1.png')\n",
    "data1 = cv2.resize(data1, (200, 200))\n",
    "\n",
    "data2 = cv2.imread('data2.png')\n",
    "data2 = cv2.resize(data2, (200, 200))"
   ]
  },
  {
   "cell_type": "code",
   "execution_count": 40,
   "id": "9da811b2",
   "metadata": {},
   "outputs": [
    {
     "name": "stdout",
     "output_type": "stream",
     "text": [
      "409.641925\n"
     ]
    }
   ],
   "source": [
    "error = np.sum(np.abs(query - data1)) / (200*200)\n",
    "print(error)"
   ]
  },
  {
   "cell_type": "code",
   "execution_count": 41,
   "id": "643ce6dd",
   "metadata": {},
   "outputs": [
    {
     "name": "stdout",
     "output_type": "stream",
     "text": [
      "396.1972\n"
     ]
    }
   ],
   "source": [
    "error = np.sum(np.abs(query - data2)) / (200*200)\n",
    "print(error)"
   ]
  },
  {
   "cell_type": "code",
   "execution_count": null,
   "id": "e507cf68",
   "metadata": {},
   "outputs": [],
   "source": []
  }
 ],
 "metadata": {
  "kernelspec": {
   "display_name": "Python 3 (ipykernel)",
   "language": "python",
   "name": "python3"
  },
  "language_info": {
   "codemirror_mode": {
    "name": "ipython",
    "version": 3
   },
   "file_extension": ".py",
   "mimetype": "text/x-python",
   "name": "python",
   "nbconvert_exporter": "python",
   "pygments_lexer": "ipython3",
   "version": "3.9.13"
  }
 },
 "nbformat": 4,
 "nbformat_minor": 5
}
