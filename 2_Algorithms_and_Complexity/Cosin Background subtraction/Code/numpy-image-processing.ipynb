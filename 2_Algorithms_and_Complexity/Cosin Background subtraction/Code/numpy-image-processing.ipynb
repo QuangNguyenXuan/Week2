{
 "cells": [
  {
   "attachments": {},
   "cell_type": "markdown",
   "metadata": {},
   "source": [
    "# Đọc và hiển thị ảnh\n",
    "\n",
    "Biết cách sử dụng các phương thức trong OpenCV để đọc và hiển thị hình ảnh từ tệp tin hoặc nguồn dữ liệu."
   ]
  },
  {
   "cell_type": "code",
   "execution_count": 14,
   "metadata": {},
   "outputs": [
    {
     "data": {
      "text/plain": [
       "True"
      ]
     },
     "execution_count": 14,
     "metadata": {},
     "output_type": "execute_result"
    }
   ],
   "source": [
    "import cv2\n",
    "import numpy as np\n",
    "\n",
    "# Đọc hình ảnh\n",
    "image = cv2.imread('nature.jpg')\n",
    "\n",
    "\n",
    "# Hiển thị hình ảnh\n",
    "cv2.imshow(\"Image\", image)\n",
    "cv2.waitKey(0)  # Chờ người dùng nhấn một phím bất kỳ để đóng cửa sổ hiển thị\n",
    "cv2.destroyAllWindows()  # Đóng tất cả các cửa sổ hiển thị\n",
    "\n",
    "#Lưu hình ảnh\n",
    "cv2.imwrite(\"new_nature.jpg\", image)\n",
    "\n"
   ]
  },
  {
   "cell_type": "code",
   "execution_count": 16,
   "metadata": {},
   "outputs": [],
   "source": [
    "import cv2\n",
    "import numpy as np\n",
    "\n",
    "# Đọc hình ảnh\n",
    "img_gray = cv2.imread('nature.jpg', 0)\n",
    "\n",
    "# Kiểm tra xem hình ảnh đã được đọc thành công hay chưa\n",
    "if img_gray is not None:\n",
    "    # Hiển thị hình ảnh\n",
    "    cv2.imshow(\"Image\", img_gray)\n",
    "    cv2.waitKey(0)  # Chờ người dùng nhấn một phím bất kỳ để đóng cửa sổ hiển thị\n",
    "    cv2.destroyAllWindows()  # Đóng tất cả các cửa sổ hiển thị\n",
    "else:\n",
    "    print(\"Failed to read the image.\")\n"
   ]
  },
  {
   "attachments": {},
   "cell_type": "markdown",
   "metadata": {},
   "source": [
    "## 1. Ứng dụng slicing - Cắt ảnh"
   ]
  },
  {
   "cell_type": "code",
   "execution_count": 17,
   "metadata": {},
   "outputs": [],
   "source": [
    "img_crop = img_gray[50:150, 500:700]\n",
    "cv2.imshow('gray crop', img_crop)\n",
    "cv2.waitKey(0)  # Chờ người dùng nhấn một phím bất kỳ để đóng cửa sổ hiển thị\n",
    "cv2.destroyAllWindows()  # Đóng tất cả các cửa sổ hiển thị"
   ]
  },
  {
   "cell_type": "code",
   "execution_count": 20,
   "metadata": {},
   "outputs": [
    {
     "data": {
      "text/plain": [
       "True"
      ]
     },
     "execution_count": 20,
     "metadata": {},
     "output_type": "execute_result"
    }
   ],
   "source": [
    "img_rgb_crop = image[50:150, 500:700]\n",
    "cv2.imshow('rgb img crop', img_rgb_crop)\n",
    "cv2.waitKey(0)  # Chờ người dùng nhấn một phím bất kỳ để đóng cửa sổ hiển thị\n",
    "cv2.destroyAllWindows()  # Đóng tất cả các cửa sổ hiển thị\n",
    "cv2.imwrite(\"nature_crop.jpg\", img_rgb_crop)"
   ]
  },
  {
   "attachments": {},
   "cell_type": "markdown",
   "metadata": {},
   "source": [
    "## 2. Xoay ảnh"
   ]
  },
  {
   "cell_type": "code",
   "execution_count": 23,
   "metadata": {},
   "outputs": [
    {
     "name": "stdout",
     "output_type": "stream",
     "text": [
      "(400, 650, 3)\n",
      "(650, 400, 3)\n"
     ]
    }
   ],
   "source": [
    "img_rot = np.rot90(image)\n",
    "print(image.shape)\n",
    "print(img_rot.shape)"
   ]
  },
  {
   "cell_type": "code",
   "execution_count": 24,
   "metadata": {},
   "outputs": [
    {
     "data": {
      "text/plain": [
       "True"
      ]
     },
     "execution_count": 24,
     "metadata": {},
     "output_type": "execute_result"
    }
   ],
   "source": [
    "cv2.imshow('rgb img rot', img_rot)\n",
    "cv2.waitKey(0)  # Chờ người dùng nhấn một phím bất kỳ để đóng cửa sổ hiển thị\n",
    "cv2.destroyAllWindows()  # Đóng tất cả các cửa sổ hiển thị\n",
    "cv2.imwrite(\"nature_rot.jpg\", img_rot)"
   ]
  },
  {
   "attachments": {},
   "cell_type": "markdown",
   "metadata": {},
   "source": [
    "## 3. Ứng dụng phép cộng"
   ]
  },
  {
   "cell_type": "code",
   "execution_count": 36,
   "metadata": {},
   "outputs": [
    {
     "data": {
      "text/plain": [
       "True"
      ]
     },
     "execution_count": 36,
     "metadata": {},
     "output_type": "execute_result"
    }
   ],
   "source": [
    "img1 = cv2.imread('colorfull-1.jpg')\n",
    "img1 = cv2.resize(img1, (600, 400))\n",
    "\n",
    "img2 = cv2.imread('colorfull-2.jpg')\n",
    "img2 = cv2.resize(img2, (600, 400))\n",
    "\n",
    "\n",
    "\n",
    "img_3 = img1 + img2\n",
    "# img_3 = img_3.astype('uint8')\n",
    "\n",
    "cv2.imshow('plus img', img_3)\n",
    "cv2.waitKey(0)\n",
    "cv2.destroyAllWindows()  \n",
    "\n",
    "cv2.imwrite(\"plus_img.jpg\", img_3)"
   ]
  },
  {
   "cell_type": "code",
   "execution_count": 38,
   "metadata": {},
   "outputs": [],
   "source": [
    "img_plus = img_3 + 100.0\n",
    "img_plus = np.clip(img_plus, 0, 255).astype(\"uint8\")\n",
    "# img_plus = img_plus.astype(np.uint8)"
   ]
  },
  {
   "cell_type": "code",
   "execution_count": 39,
   "metadata": {},
   "outputs": [],
   "source": [
    "cv2.imshow('rgb img plus', img_plus)\n",
    "cv2.waitKey(0)\n",
    "cv2.destroyAllWindows()  "
   ]
  },
  {
   "attachments": {},
   "cell_type": "markdown",
   "metadata": {},
   "source": [
    "## 4. Ứng dụng tranpose"
   ]
  },
  {
   "cell_type": "code",
   "execution_count": 44,
   "metadata": {},
   "outputs": [],
   "source": [
    "import cv2\n",
    "img = cv2.imread(\"nature.jpg\")"
   ]
  },
  {
   "cell_type": "code",
   "execution_count": 45,
   "metadata": {},
   "outputs": [
    {
     "name": "stdout",
     "output_type": "stream",
     "text": [
      "(400, 650, 3)\n",
      "3\n",
      "uint8\n"
     ]
    }
   ],
   "source": [
    "print(img.shape)\n",
    "print(img.ndim)\n",
    "print(img.dtype)"
   ]
  },
  {
   "cell_type": "code",
   "execution_count": 46,
   "metadata": {},
   "outputs": [],
   "source": [
    "img_transpose = img.transpose(1, 0, 2)"
   ]
  },
  {
   "cell_type": "code",
   "execution_count": 47,
   "metadata": {},
   "outputs": [],
   "source": [
    "cv2.imshow(\"img transpose\", img_transpose)\n",
    "cv2.waitKey(0)\n",
    "cv2.destroyAllWindows()"
   ]
  },
  {
   "attachments": {},
   "cell_type": "markdown",
   "metadata": {},
   "source": [
    "# 5. Ứng dụng numpy operation"
   ]
  },
  {
   "cell_type": "code",
   "execution_count": 48,
   "metadata": {},
   "outputs": [],
   "source": [
    "import cv2\n",
    "\n",
    "img1 = cv2.imread(\"nature.jpg\")\n",
    "img2 = cv2.imread(\"whale.png\")"
   ]
  },
  {
   "cell_type": "code",
   "execution_count": 49,
   "metadata": {},
   "outputs": [],
   "source": [
    "cv2.imshow(\"ruong bac thang\", img1)\n",
    "cv2.imshow(\"whale\", img2)\n",
    "cv2.waitKey(0)\n",
    "cv2.destroyAllWindows()"
   ]
  },
  {
   "cell_type": "code",
   "execution_count": 276,
   "metadata": {},
   "outputs": [
    {
     "name": "stdout",
     "output_type": "stream",
     "text": [
      "(400, 650, 3)\n",
      "(650, 400, 3)\n"
     ]
    }
   ],
   "source": [
    "print(img1.shape)\n",
    "print(img2.shape)"
   ]
  },
  {
   "cell_type": "code",
   "execution_count": 280,
   "metadata": {},
   "outputs": [
    {
     "data": {
      "text/plain": [
       "(400, 650, 3)"
      ]
     },
     "execution_count": 280,
     "metadata": {},
     "output_type": "execute_result"
    }
   ],
   "source": [
    "img2 = np.transpose(img2, (1, 0, 2))\n",
    "img2.shape"
   ]
  },
  {
   "cell_type": "code",
   "execution_count": 289,
   "metadata": {},
   "outputs": [],
   "source": [
    "img_pd = img1 * img2\n",
    "img_p = img1 + img2\n",
    "img_m = img1 - img2\n",
    "sqrt_img1 = np.sqrt(img1).astype('uint8')\n",
    "sin_img1 = np.sin(img1).astype('uint8')\n",
    "relu_img1 = np.where(img1>0, img1, 0 ).astype('uint8')"
   ]
  },
  {
   "cell_type": "code",
   "execution_count": 292,
   "metadata": {},
   "outputs": [],
   "source": [
    "\n",
    "cv2.imshow(\"whale x ruong\", img_pd)\n",
    "cv2.imshow(\"whale + ruong\", img_p)\n",
    "cv2.imshow(\"whale - ruong\", img_m)\n",
    "cv2.imshow(\"sqrt ruong\", sqrt_img1)\n",
    "cv2.imshow(\"sin ruong\", sin_img1)\n",
    "cv2.imshow(\"relu ruong\", relu_img1)\n",
    "\n",
    "cv2.waitKey(0)\n",
    "cv2.destroyAllWindows()"
   ]
  }
 ],
 "metadata": {
  "kernelspec": {
   "display_name": "aio2023",
   "language": "python",
   "name": "aio2023"
  },
  "language_info": {
   "codemirror_mode": {
    "name": "ipython",
    "version": 3
   },
   "file_extension": ".py",
   "mimetype": "text/x-python",
   "name": "python",
   "nbconvert_exporter": "python",
   "pygments_lexer": "ipython3",
   "version": "3.9.16"
  },
  "orig_nbformat": 4
 },
 "nbformat": 4,
 "nbformat_minor": 2
}
