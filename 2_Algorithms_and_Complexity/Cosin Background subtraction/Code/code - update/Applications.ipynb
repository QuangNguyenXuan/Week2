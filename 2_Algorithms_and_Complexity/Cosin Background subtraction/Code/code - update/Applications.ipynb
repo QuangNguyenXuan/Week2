{
 "cells": [
  {
   "cell_type": "code",
   "execution_count": 2,
   "id": "1fce2bb4",
   "metadata": {},
   "outputs": [
    {
     "name": "stdout",
     "output_type": "stream",
     "text": [
      "500 1200 3\n",
      "uint8\n"
     ]
    },
    {
     "data": {
      "text/plain": [
       "True"
      ]
     },
     "execution_count": 2,
     "metadata": {},
     "output_type": "execute_result"
    }
   ],
   "source": [
    "import cv2\n",
    "import numpy as np\n",
    "import matplotlib.pyplot as plt\n",
    "\n",
    "img = cv2.imread('nature.jpg', 1)\n",
    "height, width, channel = img.shape\n",
    "print(height, width, channel)\n",
    "print(img.dtype)\n",
    "\n",
    "cv2.imwrite('output.jpg', img)"
   ]
  },
  {
   "cell_type": "code",
   "execution_count": null,
   "id": "2bce39f9",
   "metadata": {},
   "outputs": [],
   "source": []
  },
  {
   "cell_type": "markdown",
   "id": "8ad49341",
   "metadata": {},
   "source": [
    "### Increate brightness"
   ]
  },
  {
   "cell_type": "code",
   "execution_count": 12,
   "id": "6b913829",
   "metadata": {},
   "outputs": [
    {
     "name": "stdout",
     "output_type": "stream",
     "text": [
      "[ -4   3   8 300   7]\n",
      "[  0   3   8 255   7]\n"
     ]
    }
   ],
   "source": [
    "data = np.array([-4, 3, 8, 300, 7])\n",
    "print(data)\n",
    "\n",
    "data = np.clip(data, 0, 255)\n",
    "print(data)"
   ]
  },
  {
   "cell_type": "code",
   "execution_count": null,
   "id": "425a6e5b",
   "metadata": {},
   "outputs": [],
   "source": []
  },
  {
   "cell_type": "code",
   "execution_count": 8,
   "id": "ad769e7c",
   "metadata": {},
   "outputs": [
    {
     "data": {
      "text/plain": [
       "True"
      ]
     },
     "execution_count": 8,
     "metadata": {},
     "output_type": "execute_result"
    }
   ],
   "source": [
    "import cv2\n",
    "import numpy as np\n",
    "import matplotlib.pyplot as plt\n",
    "\n",
    "img = cv2.imread('nature.jpg', 1)\n",
    "img = img.astype(float)\n",
    "\n",
    "img = img + 50\n",
    "img = np.clip(img, 0, 255)\n",
    "\n",
    "img = img.astype(np.uint8)\n",
    "cv2.imwrite('increase50_clip.jpg', img)"
   ]
  },
  {
   "cell_type": "code",
   "execution_count": null,
   "id": "f56f5258",
   "metadata": {},
   "outputs": [],
   "source": []
  },
  {
   "cell_type": "code",
   "execution_count": null,
   "id": "759fccc7",
   "metadata": {},
   "outputs": [],
   "source": []
  },
  {
   "cell_type": "code",
   "execution_count": 19,
   "id": "9af2ed0b",
   "metadata": {},
   "outputs": [
    {
     "name": "stdout",
     "output_type": "stream",
     "text": [
      "[ -4.   3.   8. 300.   7.]\n",
      "float64\n",
      "[  0.   3.   8. 300.   7.]\n",
      "[  0.   3.   8. 255.   7.]\n"
     ]
    }
   ],
   "source": [
    "data = np.array([-4., 3, 8, 300, 7])\n",
    "print(data)\n",
    "print(data.dtype)\n",
    "\n",
    "data = np.where(data<0, 0, data)\n",
    "print(data)\n",
    "\n",
    "data = np.where(data>255, 255, data)\n",
    "print(data)"
   ]
  },
  {
   "cell_type": "code",
   "execution_count": null,
   "id": "643fb50d",
   "metadata": {},
   "outputs": [],
   "source": []
  },
  {
   "cell_type": "code",
   "execution_count": 23,
   "id": "fa351b78",
   "metadata": {},
   "outputs": [
    {
     "name": "stdout",
     "output_type": "stream",
     "text": [
      "float64\n"
     ]
    },
    {
     "data": {
      "text/plain": [
       "True"
      ]
     },
     "execution_count": 23,
     "metadata": {},
     "output_type": "execute_result"
    }
   ],
   "source": [
    "import cv2\n",
    "import numpy as np\n",
    "import matplotlib.pyplot as plt\n",
    "\n",
    "img = cv2.imread('nature.jpg', 1)\n",
    "img = img.astype(float)\n",
    "\n",
    "img = img + 50\n",
    "img = np.where(img<0., 0., img)\n",
    "img = np.where(img>255., 255., img)\n",
    "\n",
    "img = img.astype(np.uint8)\n",
    "cv2.imwrite('increase50_where.jpg', img)"
   ]
  },
  {
   "cell_type": "code",
   "execution_count": null,
   "id": "177e1f63",
   "metadata": {},
   "outputs": [],
   "source": []
  },
  {
   "cell_type": "markdown",
   "id": "0f60bdd1",
   "metadata": {},
   "source": [
    "### Decrease brightness"
   ]
  },
  {
   "cell_type": "code",
   "execution_count": 24,
   "id": "7d23125f",
   "metadata": {},
   "outputs": [
    {
     "data": {
      "text/plain": [
       "True"
      ]
     },
     "execution_count": 24,
     "metadata": {},
     "output_type": "execute_result"
    }
   ],
   "source": [
    "import cv2\n",
    "import numpy as np\n",
    "import matplotlib.pyplot as plt\n",
    "\n",
    "img = cv2.imread('nature.jpg', 1)\n",
    "img = img.astype(float)\n",
    "\n",
    "img = img - 80\n",
    "img = np.clip(img, 0, 255)\n",
    "\n",
    "img = img.astype(np.uint8)\n",
    "cv2.imwrite('decrease80_clip.jpg', img)"
   ]
  },
  {
   "cell_type": "code",
   "execution_count": null,
   "id": "c7129caf",
   "metadata": {},
   "outputs": [],
   "source": []
  },
  {
   "cell_type": "code",
   "execution_count": 25,
   "id": "6d0666b2",
   "metadata": {},
   "outputs": [
    {
     "data": {
      "text/plain": [
       "True"
      ]
     },
     "execution_count": 25,
     "metadata": {},
     "output_type": "execute_result"
    }
   ],
   "source": [
    "import cv2\n",
    "import numpy as np\n",
    "import matplotlib.pyplot as plt\n",
    "\n",
    "img = cv2.imread('nature.jpg', 1)\n",
    "img = img.astype(float)\n",
    "\n",
    "img = img - 80\n",
    "img = np.where(img<0., 0., img)\n",
    "img = np.where(img>255., 255., img)\n",
    "\n",
    "img = img.astype(np.uint8)\n",
    "cv2.imwrite('decrease80_where.jpg', img)"
   ]
  },
  {
   "cell_type": "code",
   "execution_count": null,
   "id": "0c8c13e4",
   "metadata": {},
   "outputs": [],
   "source": []
  },
  {
   "cell_type": "code",
   "execution_count": null,
   "id": "82d8bdb8",
   "metadata": {},
   "outputs": [],
   "source": []
  },
  {
   "cell_type": "markdown",
   "id": "29d2931a",
   "metadata": {},
   "source": [
    "### Flipping"
   ]
  },
  {
   "cell_type": "code",
   "execution_count": 56,
   "id": "13dd57d2",
   "metadata": {},
   "outputs": [
    {
     "data": {
      "text/plain": [
       "True"
      ]
     },
     "execution_count": 56,
     "metadata": {},
     "output_type": "execute_result"
    }
   ],
   "source": [
    "import cv2\n",
    "import numpy as np\n",
    "import matplotlib.pyplot as plt\n",
    "\n",
    "img = cv2.imread('nature.jpg', 1)\n",
    "img = img.astype(float)\n",
    "height, width, depth = img.shape\n",
    "\n",
    "transform = np.array([[1, 0],\n",
    "                      [0, -1]])\n",
    "\n",
    "output = np.zeros((height, width, depth))\n",
    "for i in range(height):\n",
    "    for j in range(width):\n",
    "        pixel = img[i, j, :]\n",
    "        \n",
    "        new_j, new_i = transform.dot(np.array([j, i])) \n",
    "                       + [0, height-1]\n",
    "        output[new_i, new_j, :] = pixel\n",
    "        \n",
    "output = output.astype(np.uint8)\n",
    "cv2.imwrite('flipping_x.jpg', output)"
   ]
  },
  {
   "cell_type": "code",
   "execution_count": null,
   "id": "9895912c",
   "metadata": {},
   "outputs": [],
   "source": []
  },
  {
   "cell_type": "code",
   "execution_count": 57,
   "id": "c81e3c5e",
   "metadata": {},
   "outputs": [
    {
     "data": {
      "text/plain": [
       "True"
      ]
     },
     "execution_count": 57,
     "metadata": {},
     "output_type": "execute_result"
    }
   ],
   "source": [
    "import cv2\n",
    "import numpy as np\n",
    "import matplotlib.pyplot as plt\n",
    "\n",
    "img = cv2.imread('nature.jpg', 1)\n",
    "img = img.astype(float)\n",
    "height, width, depth = img.shape\n",
    "\n",
    "transform = np.array([[-1, 0],\n",
    "                      [0, 1]])\n",
    "\n",
    "output = np.zeros((height, width, depth))\n",
    "for i in range(height):\n",
    "    for j in range(width):\n",
    "        pixel = img[i, j, :]        \n",
    "        new_j, new_i = transform.dot(np.array([j, i])) \n",
    "                       + [width-1, 0]\n",
    "        output[new_i, new_j, :] = pixel\n",
    "        \n",
    "output = output.astype(np.uint8)\n",
    "cv2.imwrite('flipping_y.jpg', output)"
   ]
  },
  {
   "cell_type": "code",
   "execution_count": null,
   "id": "e19fe233",
   "metadata": {},
   "outputs": [],
   "source": []
  },
  {
   "cell_type": "markdown",
   "id": "c02cd4d3",
   "metadata": {},
   "source": [
    "### Convert to grayscale"
   ]
  },
  {
   "cell_type": "code",
   "execution_count": 63,
   "id": "c9362440",
   "metadata": {},
   "outputs": [
    {
     "data": {
      "text/plain": [
       "True"
      ]
     },
     "execution_count": 63,
     "metadata": {},
     "output_type": "execute_result"
    }
   ],
   "source": [
    "import cv2\n",
    "import numpy as np\n",
    "\n",
    "img = cv2.imread('nature.jpg', 1)\n",
    "transform = np.array([0.072, 0.213, 0.715])\n",
    "\n",
    "output = img@transform\n",
    "cv2.imwrite('nature_grayscale_1.jpg', output)"
   ]
  },
  {
   "cell_type": "code",
   "execution_count": null,
   "id": "c363b28c",
   "metadata": {},
   "outputs": [],
   "source": []
  },
  {
   "cell_type": "code",
   "execution_count": 64,
   "id": "31984480",
   "metadata": {},
   "outputs": [
    {
     "data": {
      "text/plain": [
       "True"
      ]
     },
     "execution_count": 64,
     "metadata": {},
     "output_type": "execute_result"
    }
   ],
   "source": [
    "import cv2\n",
    "import numpy as np\n",
    "\n",
    "img = cv2.imread('nature.jpg', 1)\n",
    "transform = np.array([0.072, 0.213, 0.715])\n",
    "\n",
    "output = img.dot(transform)\n",
    "cv2.imwrite('nature_grayscale_2.jpg', output)"
   ]
  },
  {
   "cell_type": "code",
   "execution_count": null,
   "id": "e0daa158",
   "metadata": {},
   "outputs": [],
   "source": []
  },
  {
   "cell_type": "markdown",
   "id": "471ada13",
   "metadata": {},
   "source": [
    "### Draw BB"
   ]
  },
  {
   "cell_type": "code",
   "execution_count": 1,
   "id": "f12fffa8",
   "metadata": {},
   "outputs": [
    {
     "name": "stdout",
     "output_type": "stream",
     "text": [
      "[6, 5, 7, 1, 9, 2]\n",
      "[6, 4, 7, 1, 9, 2]\n"
     ]
    }
   ],
   "source": [
    "data = [6, 5, 7, 1, 9, 2]\n",
    "print(data)\n",
    "data[1] = 4\n",
    "print(data)"
   ]
  },
  {
   "cell_type": "code",
   "execution_count": 3,
   "id": "acace4a8",
   "metadata": {},
   "outputs": [
    {
     "name": "stdout",
     "output_type": "stream",
     "text": [
      "[6 5 7 1 9 2]\n",
      "[6 4 7 1 9 2]\n"
     ]
    }
   ],
   "source": [
    "import numpy as np\n",
    "\n",
    "data = np.array([6, 5, 7, 1, 9, 2])\n",
    "print(data)\n",
    "\n",
    "data[1] = 4\n",
    "print(data)"
   ]
  },
  {
   "cell_type": "code",
   "execution_count": null,
   "id": "3086f4af",
   "metadata": {},
   "outputs": [],
   "source": []
  },
  {
   "cell_type": "code",
   "execution_count": 4,
   "id": "c8a19b87",
   "metadata": {},
   "outputs": [
    {
     "name": "stdout",
     "output_type": "stream",
     "text": [
      "[4, 5, 6, 7, 8, 9]\n",
      "[1, 1, 1, 7, 8, 9]\n"
     ]
    }
   ],
   "source": [
    "data = [4, 5, 6, 7, 8, 9]\n",
    "print(data)\n",
    "data[0:3] = [1, 1, 1]\n",
    "print(data)"
   ]
  },
  {
   "cell_type": "code",
   "execution_count": 5,
   "id": "d661dcb5",
   "metadata": {},
   "outputs": [
    {
     "name": "stdout",
     "output_type": "stream",
     "text": [
      "[6 5 7 1 9 2]\n",
      "[1 1 1 1 9 2]\n"
     ]
    }
   ],
   "source": [
    "import numpy as np\n",
    "\n",
    "data = np.array([6, 5, 7, 1, 9, 2])\n",
    "print(data)\n",
    "\n",
    "data[0:3] = [1, 1, 1]\n",
    "print(data)"
   ]
  },
  {
   "cell_type": "code",
   "execution_count": 6,
   "id": "49260e3a",
   "metadata": {},
   "outputs": [
    {
     "name": "stdout",
     "output_type": "stream",
     "text": [
      "[6 5 7 1 9 2]\n",
      "[1 1 1 1 9 2]\n"
     ]
    }
   ],
   "source": [
    "import numpy as np\n",
    "\n",
    "data = np.array([6, 5, 7, 1, 9, 2])\n",
    "print(data)\n",
    "\n",
    "data[0:3] = 1\n",
    "print(data)"
   ]
  },
  {
   "cell_type": "code",
   "execution_count": null,
   "id": "0a368958",
   "metadata": {},
   "outputs": [],
   "source": []
  },
  {
   "cell_type": "code",
   "execution_count": 14,
   "id": "b02ea3f4",
   "metadata": {},
   "outputs": [
    {
     "data": {
      "text/plain": [
       "True"
      ]
     },
     "execution_count": 14,
     "metadata": {},
     "output_type": "execute_result"
    }
   ],
   "source": [
    "import cv2\n",
    "import numpy as np\n",
    "\n",
    "img = cv2.imread('image.jpg', 1)\n",
    "height, width, channel = img.shape\n",
    "\n",
    "left_x, left_y = 120, 470\n",
    "right_x, right_y = 850, 800\n",
    "color = np.array([0, 0, 255]).reshape(1, 3)\n",
    "\n",
    "img[left_x, left_y:right_y, :] = color\n",
    "img[right_x, left_y:right_y, :] = color\n",
    "\n",
    "img[left_x:right_x, left_y, :] = color\n",
    "img[left_x:right_x, right_y, :] = color\n",
    "\n",
    "cv2.imwrite('output_bb.jpg', img)"
   ]
  },
  {
   "cell_type": "code",
   "execution_count": null,
   "id": "787d1c4d",
   "metadata": {},
   "outputs": [],
   "source": []
  },
  {
   "cell_type": "markdown",
   "id": "e0941a28",
   "metadata": {},
   "source": [
    "### Crop a region"
   ]
  },
  {
   "cell_type": "code",
   "execution_count": 13,
   "id": "5a695395",
   "metadata": {},
   "outputs": [
    {
     "data": {
      "text/plain": [
       "True"
      ]
     },
     "execution_count": 13,
     "metadata": {},
     "output_type": "execute_result"
    }
   ],
   "source": [
    "import cv2\n",
    "import numpy as np\n",
    "\n",
    "img = cv2.imread('image.jpg', 1)\n",
    "height, width, channel = img.shape\n",
    "\n",
    "left_x, left_y = 120, 470\n",
    "right_x, right_y = 850, 800\n",
    "\n",
    "region = img[left_x:right_x, left_y:right_y, :]\n",
    "cv2.imwrite('output_region.jpg', region)"
   ]
  },
  {
   "cell_type": "code",
   "execution_count": null,
   "id": "4cd6c4b0",
   "metadata": {},
   "outputs": [],
   "source": []
  },
  {
   "cell_type": "code",
   "execution_count": null,
   "id": "77954345",
   "metadata": {},
   "outputs": [],
   "source": []
  }
 ],
 "metadata": {
  "kernelspec": {
   "display_name": "Python 3 (ipykernel)",
   "language": "python",
   "name": "python3"
  },
  "language_info": {
   "codemirror_mode": {
    "name": "ipython",
    "version": 3
   },
   "file_extension": ".py",
   "mimetype": "text/x-python",
   "name": "python",
   "nbconvert_exporter": "python",
   "pygments_lexer": "ipython3",
   "version": "3.9.13"
  }
 },
 "nbformat": 4,
 "nbformat_minor": 5
}
