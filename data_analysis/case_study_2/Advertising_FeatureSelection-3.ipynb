{
 "cells": [
  {
   "cell_type": "code",
   "execution_count": 1,
   "id": "7231ab8d",
   "metadata": {},
   "outputs": [
    {
     "name": "stdout",
     "output_type": "stream",
     "text": [
      "(200, 4)\n",
      "[[199.8   3.1  34.6  16.4]\n",
      " [ 80.2   0.    9.2  11.9]\n",
      " [ 74.7  49.4  45.7  14.7]\n",
      " [ 44.7  25.8  20.6  10.1]\n",
      " [147.3  23.9  19.1  14.6]]\n"
     ]
    }
   ],
   "source": [
    "import numpy as np\n",
    "from numpy import genfromtxt\n",
    "import matplotlib.pyplot as plt\n",
    "%matplotlib qt\n",
    "np.random.seed(123)\n",
    "\n",
    "data = genfromtxt('advertising.csv', delimiter=',', skip_header=1)\n",
    "print(data.shape)\n",
    "\n",
    "np.random.shuffle(data)\n",
    "print(data[:5])"
   ]
  },
  {
   "cell_type": "code",
   "execution_count": 2,
   "id": "60f96382",
   "metadata": {},
   "outputs": [
    {
     "name": "stdout",
     "output_type": "stream",
     "text": [
      "[[ 1.         -0.40653226]\n",
      " [ 1.         -0.46903226]\n",
      " [ 1.          0.52693548]\n",
      " [ 1.          0.05112903]\n",
      " [ 1.          0.01282258]]\n"
     ]
    }
   ],
   "source": [
    "x = data[:,1:2]\n",
    "y = data[:,3:]\n",
    "\n",
    "max_value = np.max(x)\n",
    "min_value = np.min(x)\n",
    "avg = np.mean(x)\n",
    "x = (x-avg) / (max_value-min_value)\n",
    "\n",
    "x_b = np.c_[np.ones((200, 1)), x]\n",
    "print(x_b[:5])"
   ]
  },
  {
   "cell_type": "code",
   "execution_count": 3,
   "id": "ecadfe4d",
   "metadata": {},
   "outputs": [
    {
     "name": "stdout",
     "output_type": "stream",
     "text": [
      "x_train:  (150, 2)\n",
      "y_train:  (150, 1)\n",
      "x_test:  (50, 2)\n",
      "y_test:  (50, 1)\n"
     ]
    }
   ],
   "source": [
    "N = 150\n",
    "\n",
    "x_train = x_b[:N]\n",
    "y_train = y[:N]\n",
    "\n",
    "x_test = x_b[N:]\n",
    "y_test = y[N:]\n",
    "\n",
    "print('x_train: ', x_train.shape)\n",
    "print('y_train: ', y_train.shape)\n",
    "print('x_test: ', x_test.shape)\n",
    "print('y_test: ', y_test.shape)"
   ]
  },
  {
   "cell_type": "code",
   "execution_count": null,
   "id": "bae42cfb",
   "metadata": {},
   "outputs": [],
   "source": []
  },
  {
   "cell_type": "markdown",
   "id": "8780a2fe",
   "metadata": {},
   "source": [
    "## Train"
   ]
  },
  {
   "cell_type": "code",
   "execution_count": 4,
   "id": "5a0df7f4",
   "metadata": {},
   "outputs": [],
   "source": [
    "n_iterations = 150\n",
    "learning_rate = 0.01\n",
    "\n",
    "# khởi tạo giá trị tham số\n",
    "thetas = np.random.randn(2, 1)\n",
    "thetas_path = [thetas]\n",
    "losses = []\n",
    "\n",
    "for i in range(n_iterations):\n",
    "    # tính output\n",
    "    output = x_train.dot(thetas)\n",
    "\n",
    "    # tính loss\n",
    "    loss = (output - y_train)**2        \n",
    "\n",
    "    # tính đạo hàm cho loss\n",
    "    loss_grd = 2*(output - y_train)/N\n",
    "\n",
    "    # tính đạo hàm cho các tham số\n",
    "    gradients = x_train.T.dot(loss_grd)\n",
    "\n",
    "    # cập nhật tham số\n",
    "    thetas = thetas - learning_rate*gradients\n",
    "    thetas_path.append(thetas)\n",
    "\n",
    "    mean_loss = np.sum(loss)/N\n",
    "    losses.append(mean_loss)\n",
    "\n",
    "\n",
    "# in loss cho 100 sample đầu\n",
    "x_axis = list(range(n_iterations))\n",
    "plt.plot(x_axis,losses[:n_iterations], color=\"r\")\n",
    "plt.show()"
   ]
  },
  {
   "cell_type": "code",
   "execution_count": 5,
   "id": "fe167b3c",
   "metadata": {},
   "outputs": [
    {
     "name": "stdout",
     "output_type": "stream",
     "text": [
      "[[14.178723  ]\n",
      " [ 1.12629254]]\n",
      "Loss:  26.162301255736224\n"
     ]
    }
   ],
   "source": [
    "print(thetas)\n",
    "print('Loss: ', losses[-1])"
   ]
  },
  {
   "cell_type": "code",
   "execution_count": null,
   "id": "86ba3a09",
   "metadata": {},
   "outputs": [],
   "source": []
  },
  {
   "cell_type": "code",
   "execution_count": 6,
   "id": "faded8af",
   "metadata": {},
   "outputs": [
    {
     "name": "stdout",
     "output_type": "stream",
     "text": [
      "Test Loss:  4.784831231429557\n"
     ]
    }
   ],
   "source": [
    "# test\n",
    "\n",
    "# tính output\n",
    "output = x_test.dot(thetas)\n",
    "\n",
    "# tính loss\n",
    "loss = np.abs(output - y_test)\n",
    "print('Test Loss: ', loss.mean())"
   ]
  },
  {
   "cell_type": "code",
   "execution_count": null,
   "id": "c08938de",
   "metadata": {},
   "outputs": [],
   "source": []
  }
 ],
 "metadata": {
  "kernelspec": {
   "display_name": "Python 3 (ipykernel)",
   "language": "python",
   "name": "python3"
  },
  "language_info": {
   "codemirror_mode": {
    "name": "ipython",
    "version": 3
   },
   "file_extension": ".py",
   "mimetype": "text/x-python",
   "name": "python",
   "nbconvert_exporter": "python",
   "pygments_lexer": "ipython3",
   "version": "3.9.13"
  }
 },
 "nbformat": 4,
 "nbformat_minor": 5
}
