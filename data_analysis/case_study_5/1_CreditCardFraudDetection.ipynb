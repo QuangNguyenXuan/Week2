{
 "cells": [
  {
   "cell_type": "markdown",
   "metadata": {
    "id": "uDLcLQO43-4Q"
   },
   "source": [
    "## First, vectorize the CSV data"
   ]
  },
  {
   "cell_type": "code",
   "execution_count": null,
   "metadata": {
    "id": "huo_F8Eu4pSz"
   },
   "outputs": [],
   "source": [
    "'''\n",
    "The dataset contains transactions made by credit cards in September 2013 by European cardholders.\n",
    "\n",
    "This dataset presents transactions that occurred in two days, where we have 492 frauds out of 284,807 transactions. \n",
    "The dataset is highly unbalanced, the positive class (frauds) account for 0.172% of all transactions.\n",
    "\n",
    "Feature 'Class' is the response variable and it takes value 1 in case of fraud and 0 otherwise\n",
    "'''"
   ]
  },
  {
   "cell_type": "code",
   "execution_count": 1,
   "metadata": {
    "id": "2ogaTB7Z3-4R"
   },
   "outputs": [
    {
     "name": "stdout",
     "output_type": "stream",
     "text": [
      "HEADER: \"Time\",\"V1\",\"V2\",\"V3\",\"V4\",\"V5\",\"V6\",\"V7\",\"V8\",\"V9\",\"V10\",\"V11\",\"V12\",\"V13\",\"V14\",\"V15\",\"V16\",\"V17\",\"V18\",\"V19\",\"V20\",\"V21\",\"V22\",\"V23\",\"V24\",\"V25\",\"V26\",\"V27\",\"V28\",\"Amount\",\"Class\"\n",
      "EXAMPLE FEATURES: [0.0, -1.3598071336738, -0.0727811733098497, 2.53634673796914, 1.37815522427443, -0.338320769942518, 0.462387777762292, 0.239598554061257, 0.0986979012610507, 0.363786969611213, 0.0907941719789316, -0.551599533260813, -0.617800855762348, -0.991389847235408, -0.311169353699879, 1.46817697209427, -0.470400525259478, 0.207971241929242, 0.0257905801985591, 0.403992960255733, 0.251412098239705, -0.018306777944153, 0.277837575558899, -0.110473910188767, 0.0669280749146731, 0.128539358273528, -0.189114843888824, 0.133558376740387, -0.0210530534538215, 149.62]\n",
      "features.shape: (284807, 30)\n",
      "targets.shape: (284807, 1)\n"
     ]
    }
   ],
   "source": [
    "import csv\n",
    "import numpy as np\n",
    "\n",
    "all_features = []\n",
    "all_targets = []\n",
    "with open('creditcard.csv') as f:\n",
    "    for i, line in enumerate(f):\n",
    "        if i == 0:\n",
    "            print(\"HEADER:\", line.strip())\n",
    "            continue  # Skip header\n",
    "        fields = line.strip().split(\",\")\n",
    "        all_features.append([float(v.replace('\"', \"\")) for v in fields[:-1]])\n",
    "        all_targets.append([int(fields[-1].replace('\"', \"\"))])\n",
    "        if i == 1:\n",
    "            print(\"EXAMPLE FEATURES:\", all_features[-1])\n",
    "\n",
    "features = np.array(all_features, dtype=\"float32\")\n",
    "targets = np.array(all_targets, dtype=\"uint8\")\n",
    "print(\"features.shape:\", features.shape)\n",
    "print(\"targets.shape:\", targets.shape)"
   ]
  },
  {
   "cell_type": "markdown",
   "metadata": {
    "id": "vrb3azth3-4T"
   },
   "source": [
    "## Prepare a validation set"
   ]
  },
  {
   "cell_type": "code",
   "execution_count": 2,
   "metadata": {
    "id": "FXzXSUPJ3-4U"
   },
   "outputs": [
    {
     "name": "stdout",
     "output_type": "stream",
     "text": [
      "Number of training samples: 227846\n",
      "Number of validation samples: 56961\n"
     ]
    }
   ],
   "source": [
    "num_val_samples = int(len(features) * 0.2)\n",
    "train_features = features[:-num_val_samples]\n",
    "train_targets = targets[:-num_val_samples]\n",
    "val_features = features[-num_val_samples:]\n",
    "val_targets = targets[-num_val_samples:]\n",
    "\n",
    "print(\"Number of training samples:\", len(train_features))\n",
    "print(\"Number of validation samples:\", len(val_features))"
   ]
  },
  {
   "cell_type": "markdown",
   "metadata": {
    "id": "6ub9k7Cq3-4V"
   },
   "source": [
    "## Analyze class imbalance in the targets"
   ]
  },
  {
   "cell_type": "code",
   "execution_count": 3,
   "metadata": {
    "id": "YWioxgLr3-4W"
   },
   "outputs": [
    {
     "name": "stdout",
     "output_type": "stream",
     "text": [
      "Number of positive samples in training data: 417 (0.18% of total)\n"
     ]
    }
   ],
   "source": [
    "counts = np.bincount(train_targets[:, 0])\n",
    "print(\n",
    "    \"Number of positive samples in training data: {} ({:.2f}% of total)\".format(\n",
    "        counts[1], 100 * float(counts[1]) / len(train_targets)\n",
    "    )\n",
    ")\n",
    "\n",
    "weight_for_0 = 1.0 / counts[0]\n",
    "weight_for_1 = 1.0 / counts[1]"
   ]
  },
  {
   "cell_type": "markdown",
   "metadata": {
    "id": "RObnPTG_3-4X"
   },
   "source": [
    "## Normalize the data using training set statistics"
   ]
  },
  {
   "cell_type": "code",
   "execution_count": 4,
   "metadata": {
    "id": "sgzkRUFv3-4X"
   },
   "outputs": [
    {
     "name": "stdout",
     "output_type": "stream",
     "text": [
      "[ 7.9042977e+04 -6.7173101e-02 -1.3514652e-02  1.8250896e-01\n",
      "  4.3794613e-02 -6.3732401e-02  3.0533234e-02 -2.6844479e-02\n",
      "  3.9848695e-03  2.2254344e-03 -1.7062010e-03  7.6269522e-02\n",
      " -4.4995107e-02  1.6710665e-02  3.2869387e-02  4.9116377e-02\n",
      " -5.5055786e-03  1.5153111e-02 -2.2870189e-02 -7.2876248e-03\n",
      "  9.9466369e-03 -6.6186422e-03 -2.2909872e-02 -9.9138934e-03\n",
      "  1.1062564e-03  3.8055412e-02  2.8393818e-03  2.2915885e-04\n",
      "  1.9617653e-03  9.0817749e+01]\n"
     ]
    }
   ],
   "source": [
    "mean = np.mean(train_features, axis=0)\n",
    "train_features -= mean\n",
    "val_features -= mean\n",
    "std = np.std(train_features, axis=0)\n",
    "train_features /= std\n",
    "val_features /= std\n",
    "\n",
    "print(mean)"
   ]
  },
  {
   "cell_type": "markdown",
   "metadata": {
    "id": "BeGEJ17u3-4Y"
   },
   "source": [
    "## Build a binary classification model"
   ]
  },
  {
   "cell_type": "code",
   "execution_count": 5,
   "metadata": {
    "id": "OUwL5rss3-4Y"
   },
   "outputs": [
    {
     "name": "stdout",
     "output_type": "stream",
     "text": [
      "Model: \"sequential\"\n",
      "_________________________________________________________________\n",
      " Layer (type)                Output Shape              Param #   \n",
      "=================================================================\n",
      " dense (Dense)               (None, 256)               7936      \n",
      "                                                                 \n",
      " dense_1 (Dense)             (None, 256)               65792     \n",
      "                                                                 \n",
      " dropout (Dropout)           (None, 256)               0         \n",
      "                                                                 \n",
      " dense_2 (Dense)             (None, 256)               65792     \n",
      "                                                                 \n",
      " dropout_1 (Dropout)         (None, 256)               0         \n",
      "                                                                 \n",
      " dense_3 (Dense)             (None, 1)                 257       \n",
      "                                                                 \n",
      "=================================================================\n",
      "Total params: 139,777\n",
      "Trainable params: 139,777\n",
      "Non-trainable params: 0\n",
      "_________________________________________________________________\n"
     ]
    }
   ],
   "source": [
    "from tensorflow import keras\n",
    "\n",
    "model = keras.Sequential(\n",
    "    [\n",
    "        keras.layers.Dense(256, activation=\"relu\", input_shape=(train_features.shape[-1],)),\n",
    "        keras.layers.Dense(256, activation=\"relu\"),\n",
    "        keras.layers.Dropout(0.3),\n",
    "        keras.layers.Dense(256, activation=\"relu\"),\n",
    "        keras.layers.Dropout(0.3),\n",
    "        keras.layers.Dense(1, activation=\"sigmoid\"),\n",
    "    ]\n",
    ")\n",
    "model.summary()"
   ]
  },
  {
   "cell_type": "markdown",
   "metadata": {
    "id": "PYNGbgVO3-4Z"
   },
   "source": [
    "## Train the model with `class_weight` argument"
   ]
  },
  {
   "cell_type": "code",
   "execution_count": 6,
   "metadata": {
    "id": "NYJmbI_z3-4Z"
   },
   "outputs": [
    {
     "name": "stdout",
     "output_type": "stream",
     "text": [
      "Epoch 1/30\n",
      "112/112 - 8s - loss: 2.2272e-06 - fn: 49.0000 - fp: 21437.0000 - tn: 205992.0000 - tp: 368.0000 - precision: 0.0169 - recall: 0.8825 - val_loss: 0.0692 - val_fn: 11.0000 - val_fp: 717.0000 - val_tn: 56169.0000 - val_tp: 64.0000 - val_precision: 0.0819 - val_recall: 0.8533 - 8s/epoch - 70ms/step\n",
      "Epoch 2/30\n",
      "112/112 - 5s - loss: 1.6411e-06 - fn: 33.0000 - fp: 8340.0000 - tn: 219089.0000 - tp: 384.0000 - precision: 0.0440 - recall: 0.9209 - val_loss: 0.0806 - val_fn: 11.0000 - val_fp: 230.0000 - val_tn: 56656.0000 - val_tp: 64.0000 - val_precision: 0.2177 - val_recall: 0.8533 - 5s/epoch - 44ms/step\n",
      "Epoch 3/30\n",
      "112/112 - 5s - loss: 1.2940e-06 - fn: 30.0000 - fp: 7221.0000 - tn: 220208.0000 - tp: 387.0000 - precision: 0.0509 - recall: 0.9281 - val_loss: 0.1146 - val_fn: 6.0000 - val_fp: 2270.0000 - val_tn: 54616.0000 - val_tp: 69.0000 - val_precision: 0.0295 - val_recall: 0.9200 - 5s/epoch - 44ms/step\n",
      "Epoch 4/30\n",
      "112/112 - 4s - loss: 1.0561e-06 - fn: 24.0000 - fp: 6423.0000 - tn: 221006.0000 - tp: 393.0000 - precision: 0.0577 - recall: 0.9424 - val_loss: 0.1864 - val_fn: 4.0000 - val_fp: 3694.0000 - val_tn: 53192.0000 - val_tp: 71.0000 - val_precision: 0.0189 - val_recall: 0.9467 - 4s/epoch - 38ms/step\n",
      "Epoch 5/30\n",
      "112/112 - 4s - loss: 9.6108e-07 - fn: 22.0000 - fp: 6484.0000 - tn: 220945.0000 - tp: 395.0000 - precision: 0.0574 - recall: 0.9472 - val_loss: 0.0895 - val_fn: 6.0000 - val_fp: 1636.0000 - val_tn: 55250.0000 - val_tp: 69.0000 - val_precision: 0.0405 - val_recall: 0.9200 - 4s/epoch - 37ms/step\n",
      "Epoch 6/30\n",
      "112/112 - 5s - loss: 1.4279e-06 - fn: 26.0000 - fp: 8915.0000 - tn: 218514.0000 - tp: 391.0000 - precision: 0.0420 - recall: 0.9376 - val_loss: 0.0929 - val_fn: 11.0000 - val_fp: 752.0000 - val_tn: 56134.0000 - val_tp: 64.0000 - val_precision: 0.0784 - val_recall: 0.8533 - 5s/epoch - 43ms/step\n",
      "Epoch 7/30\n",
      "112/112 - 5s - loss: 9.6601e-07 - fn: 21.0000 - fp: 6236.0000 - tn: 221193.0000 - tp: 396.0000 - precision: 0.0597 - recall: 0.9496 - val_loss: 0.0699 - val_fn: 9.0000 - val_fp: 865.0000 - val_tn: 56021.0000 - val_tp: 66.0000 - val_precision: 0.0709 - val_recall: 0.8800 - 5s/epoch - 42ms/step\n",
      "Epoch 8/30\n",
      "112/112 - 5s - loss: 8.1053e-07 - fn: 15.0000 - fp: 6098.0000 - tn: 221331.0000 - tp: 402.0000 - precision: 0.0618 - recall: 0.9640 - val_loss: 0.0779 - val_fn: 11.0000 - val_fp: 830.0000 - val_tn: 56056.0000 - val_tp: 64.0000 - val_precision: 0.0716 - val_recall: 0.8533 - 5s/epoch - 43ms/step\n",
      "Epoch 9/30\n",
      "112/112 - 5s - loss: 7.7050e-07 - fn: 20.0000 - fp: 5599.0000 - tn: 221830.0000 - tp: 397.0000 - precision: 0.0662 - recall: 0.9520 - val_loss: 0.0290 - val_fn: 10.0000 - val_fp: 564.0000 - val_tn: 56322.0000 - val_tp: 65.0000 - val_precision: 0.1033 - val_recall: 0.8667 - 5s/epoch - 43ms/step\n",
      "Epoch 10/30\n",
      "112/112 - 5s - loss: 1.0958e-06 - fn: 13.0000 - fp: 7277.0000 - tn: 220152.0000 - tp: 404.0000 - precision: 0.0526 - recall: 0.9688 - val_loss: 0.0402 - val_fn: 13.0000 - val_fp: 638.0000 - val_tn: 56248.0000 - val_tp: 62.0000 - val_precision: 0.0886 - val_recall: 0.8267 - 5s/epoch - 43ms/step\n",
      "Epoch 11/30\n",
      "112/112 - 5s - loss: 8.6533e-07 - fn: 14.0000 - fp: 5850.0000 - tn: 221579.0000 - tp: 403.0000 - precision: 0.0644 - recall: 0.9664 - val_loss: 0.0203 - val_fn: 11.0000 - val_fp: 247.0000 - val_tn: 56639.0000 - val_tp: 64.0000 - val_precision: 0.2058 - val_recall: 0.8533 - 5s/epoch - 43ms/step\n",
      "Epoch 12/30\n",
      "112/112 - 5s - loss: 8.5671e-07 - fn: 13.0000 - fp: 5570.0000 - tn: 221859.0000 - tp: 404.0000 - precision: 0.0676 - recall: 0.9688 - val_loss: 0.0621 - val_fn: 11.0000 - val_fp: 889.0000 - val_tn: 55997.0000 - val_tp: 64.0000 - val_precision: 0.0672 - val_recall: 0.8533 - 5s/epoch - 43ms/step\n",
      "Epoch 13/30\n",
      "112/112 - 5s - loss: 1.2418e-06 - fn: 17.0000 - fp: 6646.0000 - tn: 220783.0000 - tp: 400.0000 - precision: 0.0568 - recall: 0.9592 - val_loss: 0.0401 - val_fn: 12.0000 - val_fp: 333.0000 - val_tn: 56553.0000 - val_tp: 63.0000 - val_precision: 0.1591 - val_recall: 0.8400 - 5s/epoch - 42ms/step\n",
      "Epoch 14/30\n",
      "112/112 - 5s - loss: 9.7396e-07 - fn: 16.0000 - fp: 5764.0000 - tn: 221665.0000 - tp: 401.0000 - precision: 0.0650 - recall: 0.9616 - val_loss: 0.0323 - val_fn: 9.0000 - val_fp: 455.0000 - val_tn: 56431.0000 - val_tp: 66.0000 - val_precision: 0.1267 - val_recall: 0.8800 - 5s/epoch - 43ms/step\n",
      "Epoch 15/30\n",
      "112/112 - 5s - loss: 1.4251e-06 - fn: 15.0000 - fp: 6293.0000 - tn: 221136.0000 - tp: 402.0000 - precision: 0.0600 - recall: 0.9640 - val_loss: 0.0713 - val_fn: 9.0000 - val_fp: 597.0000 - val_tn: 56289.0000 - val_tp: 66.0000 - val_precision: 0.0995 - val_recall: 0.8800 - 5s/epoch - 43ms/step\n",
      "Epoch 16/30\n",
      "112/112 - 5s - loss: 1.7408e-06 - fn: 14.0000 - fp: 6328.0000 - tn: 221101.0000 - tp: 403.0000 - precision: 0.0599 - recall: 0.9664 - val_loss: 0.0264 - val_fn: 12.0000 - val_fp: 257.0000 - val_tn: 56629.0000 - val_tp: 63.0000 - val_precision: 0.1969 - val_recall: 0.8400 - 5s/epoch - 43ms/step\n",
      "Epoch 17/30\n",
      "112/112 - 5s - loss: 1.1983e-06 - fn: 15.0000 - fp: 5150.0000 - tn: 222279.0000 - tp: 402.0000 - precision: 0.0724 - recall: 0.9640 - val_loss: 0.0808 - val_fn: 9.0000 - val_fp: 1569.0000 - val_tn: 55317.0000 - val_tp: 66.0000 - val_precision: 0.0404 - val_recall: 0.8800 - 5s/epoch - 43ms/step\n",
      "Epoch 18/30\n",
      "112/112 - 5s - loss: 1.0554e-06 - fn: 10.0000 - fp: 5140.0000 - tn: 222289.0000 - tp: 407.0000 - precision: 0.0734 - recall: 0.9760 - val_loss: 0.0604 - val_fn: 6.0000 - val_fp: 806.0000 - val_tn: 56080.0000 - val_tp: 69.0000 - val_precision: 0.0789 - val_recall: 0.9200 - 5s/epoch - 43ms/step\n",
      "Epoch 19/30\n",
      "112/112 - 5s - loss: 5.4570e-07 - fn: 6.0000 - fp: 3255.0000 - tn: 224174.0000 - tp: 411.0000 - precision: 0.1121 - recall: 0.9856 - val_loss: 0.0140 - val_fn: 10.0000 - val_fp: 270.0000 - val_tn: 56616.0000 - val_tp: 65.0000 - val_precision: 0.1940 - val_recall: 0.8667 - 5s/epoch - 43ms/step\n",
      "Epoch 20/30\n",
      "112/112 - 5s - loss: 1.3213e-06 - fn: 6.0000 - fp: 4311.0000 - tn: 223118.0000 - tp: 411.0000 - precision: 0.0870 - recall: 0.9856 - val_loss: 0.0709 - val_fn: 6.0000 - val_fp: 1417.0000 - val_tn: 55469.0000 - val_tp: 69.0000 - val_precision: 0.0464 - val_recall: 0.9200 - 5s/epoch - 43ms/step\n",
      "Epoch 21/30\n",
      "112/112 - 5s - loss: 8.9411e-07 - fn: 6.0000 - fp: 3993.0000 - tn: 223436.0000 - tp: 411.0000 - precision: 0.0933 - recall: 0.9856 - val_loss: 0.0244 - val_fn: 12.0000 - val_fp: 353.0000 - val_tn: 56533.0000 - val_tp: 63.0000 - val_precision: 0.1514 - val_recall: 0.8400 - 5s/epoch - 43ms/step\n",
      "Epoch 22/30\n",
      "112/112 - 5s - loss: 5.8151e-07 - fn: 9.0000 - fp: 3482.0000 - tn: 223947.0000 - tp: 408.0000 - precision: 0.1049 - recall: 0.9784 - val_loss: 0.0477 - val_fn: 10.0000 - val_fp: 1115.0000 - val_tn: 55771.0000 - val_tp: 65.0000 - val_precision: 0.0551 - val_recall: 0.8667 - 5s/epoch - 42ms/step\n",
      "Epoch 23/30\n",
      "112/112 - 5s - loss: 4.1567e-07 - fn: 3.0000 - fp: 3731.0000 - tn: 223698.0000 - tp: 414.0000 - precision: 0.0999 - recall: 0.9928 - val_loss: 0.0148 - val_fn: 10.0000 - val_fp: 217.0000 - val_tn: 56669.0000 - val_tp: 65.0000 - val_precision: 0.2305 - val_recall: 0.8667 - 5s/epoch - 42ms/step\n",
      "Epoch 24/30\n",
      "112/112 - 5s - loss: 2.2758e-07 - fn: 1.0000 - fp: 2129.0000 - tn: 225300.0000 - tp: 416.0000 - precision: 0.1635 - recall: 0.9976 - val_loss: 0.0168 - val_fn: 10.0000 - val_fp: 296.0000 - val_tn: 56590.0000 - val_tp: 65.0000 - val_precision: 0.1801 - val_recall: 0.8667 - 5s/epoch - 43ms/step\n",
      "Epoch 25/30\n",
      "112/112 - 5s - loss: 1.4656e-07 - fn: 0.0000e+00 - fp: 1548.0000 - tn: 225881.0000 - tp: 417.0000 - precision: 0.2122 - recall: 1.0000 - val_loss: 0.0142 - val_fn: 11.0000 - val_fp: 200.0000 - val_tn: 56686.0000 - val_tp: 64.0000 - val_precision: 0.2424 - val_recall: 0.8533 - 5s/epoch - 43ms/step\n",
      "Epoch 26/30\n",
      "112/112 - 5s - loss: 1.0476e-07 - fn: 0.0000e+00 - fp: 963.0000 - tn: 226466.0000 - tp: 417.0000 - precision: 0.3022 - recall: 1.0000 - val_loss: 0.0105 - val_fn: 12.0000 - val_fp: 133.0000 - val_tn: 56753.0000 - val_tp: 63.0000 - val_precision: 0.3214 - val_recall: 0.8400 - 5s/epoch - 43ms/step\n",
      "Epoch 27/30\n",
      "112/112 - 5s - loss: 3.5729e-07 - fn: 3.0000 - fp: 2562.0000 - tn: 224867.0000 - tp: 414.0000 - precision: 0.1391 - recall: 0.9928 - val_loss: 0.0200 - val_fn: 11.0000 - val_fp: 201.0000 - val_tn: 56685.0000 - val_tp: 64.0000 - val_precision: 0.2415 - val_recall: 0.8533 - 5s/epoch - 43ms/step\n"
     ]
    },
    {
     "name": "stdout",
     "output_type": "stream",
     "text": [
      "Epoch 28/30\n",
      "112/112 - 5s - loss: 5.3251e-07 - fn: 5.0000 - fp: 5189.0000 - tn: 222240.0000 - tp: 412.0000 - precision: 0.0736 - recall: 0.9880 - val_loss: 0.0381 - val_fn: 7.0000 - val_fp: 964.0000 - val_tn: 55922.0000 - val_tp: 68.0000 - val_precision: 0.0659 - val_recall: 0.9067 - 5s/epoch - 43ms/step\n",
      "Epoch 29/30\n",
      "112/112 - 5s - loss: 3.5982e-07 - fn: 3.0000 - fp: 3612.0000 - tn: 223817.0000 - tp: 414.0000 - precision: 0.1028 - recall: 0.9928 - val_loss: 0.0238 - val_fn: 9.0000 - val_fp: 454.0000 - val_tn: 56432.0000 - val_tp: 66.0000 - val_precision: 0.1269 - val_recall: 0.8800 - 5s/epoch - 42ms/step\n",
      "Epoch 30/30\n",
      "112/112 - 5s - loss: 5.1875e-07 - fn: 8.0000 - fp: 5775.0000 - tn: 221654.0000 - tp: 409.0000 - precision: 0.0661 - recall: 0.9808 - val_loss: 0.0567 - val_fn: 8.0000 - val_fp: 1219.0000 - val_tn: 55667.0000 - val_tp: 67.0000 - val_precision: 0.0521 - val_recall: 0.8933 - 5s/epoch - 42ms/step\n"
     ]
    },
    {
     "data": {
      "text/plain": [
       "<keras.callbacks.History at 0x28cac4b8f40>"
      ]
     },
     "execution_count": 6,
     "metadata": {},
     "output_type": "execute_result"
    }
   ],
   "source": [
    "metrics = [\n",
    "    keras.metrics.FalseNegatives(name=\"fn\"),\n",
    "    keras.metrics.FalsePositives(name=\"fp\"),\n",
    "    keras.metrics.TrueNegatives(name=\"tn\"),\n",
    "    keras.metrics.TruePositives(name=\"tp\"),\n",
    "    keras.metrics.Precision(name=\"precision\"),\n",
    "    keras.metrics.Recall(name=\"recall\"),\n",
    "]\n",
    "\n",
    "model.compile(\n",
    "    optimizer=keras.optimizers.Adam(1e-2), loss=\"binary_crossentropy\", metrics=metrics)\n",
    "\n",
    "callbacks = [keras.callbacks.ModelCheckpoint(\"fraud_model_at_epoch_{epoch}.h5\")]\n",
    "class_weight = {0: weight_for_0, 1: weight_for_1}\n",
    "\n",
    "model.fit(\n",
    "    train_features,\n",
    "    train_targets,\n",
    "    batch_size=2048,\n",
    "    epochs=30,\n",
    "    verbose=2,\n",
    "    callbacks=callbacks,\n",
    "    validation_data=(val_features, val_targets),\n",
    "    class_weight=class_weight)"
   ]
  },
  {
   "cell_type": "markdown",
   "metadata": {
    "id": "14VQ_8_u3-4a"
   },
   "source": [
    "## Conclusions\n",
    "\n",
    "At the end of training, out of 56,961 validation transactions, we are:\n",
    "\n",
    "- Correctly identifying 66 of them as fraudulent\n",
    "- Missing 9 fraudulent transactions\n",
    "- At the cost of incorrectly flagging 441 legitimate transactions\n",
    "\n",
    "In the real world, one would put an even higher weight on class 1,\n",
    "so as to reflect that False Negatives are more costly than False Positives.\n",
    "\n",
    "Next time your credit card gets  declined in an online purchase -- this is why.\n",
    "\n",
    "Example available on HuggingFace.\n",
    "\n",
    "| Trained Model | Demo |\n",
    "| :--: | :--: |\n",
    "| [![Generic badge](https://img.shields.io/badge/🤗%20Model-Imbalanced%20Classification-black.svg)](https://huggingface.co/keras-io/imbalanced_classification) | [![Generic badge](https://img.shields.io/badge/🤗%20Spaces-Imbalanced%20Classification-black.svg)](https://huggingface.co/spaces/keras-io/Credit_Card_Fraud_Detection) |\n"
   ]
  }
 ],
 "metadata": {
  "accelerator": "GPU",
  "colab": {
   "provenance": []
  },
  "kernelspec": {
   "display_name": "Python 3 (ipykernel)",
   "language": "python",
   "name": "python3"
  },
  "language_info": {
   "codemirror_mode": {
    "name": "ipython",
    "version": 3
   },
   "file_extension": ".py",
   "mimetype": "text/x-python",
   "name": "python",
   "nbconvert_exporter": "python",
   "pygments_lexer": "ipython3",
   "version": "3.9.13"
  }
 },
 "nbformat": 4,
 "nbformat_minor": 1
}
