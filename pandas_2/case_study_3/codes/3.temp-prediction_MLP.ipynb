{
 "cells": [
  {
   "cell_type": "markdown",
   "metadata": {
    "id": "rI58CCX5Rvbe"
   },
   "source": [
    "## **1. Import các thư viện cần thiết**"
   ]
  },
  {
   "cell_type": "code",
   "execution_count": 20,
   "metadata": {
    "id": "zahFT_WUAqUq"
   },
   "outputs": [],
   "source": [
    "import os   \n",
    "import numpy as np\n",
    "import pandas as pd\n",
    "import matplotlib.pyplot as plt\n",
    "import tensorflow as tf\n",
    "\n",
    "from sklearn.model_selection import train_test_split\n",
    "\n",
    "RANDOM_SEED = 1\n",
    "tf.random.set_seed(RANDOM_SEED)"
   ]
  },
  {
   "cell_type": "markdown",
   "metadata": {
    "id": "FoNjWi_RSL4q"
   },
   "source": [
    "## **2. Chuẩn bị dữ liệu**"
   ]
  },
  {
   "cell_type": "code",
   "execution_count": 21,
   "metadata": {
    "id": "dRJ3rUOIv7Rv"
   },
   "outputs": [],
   "source": [
    "# Khai báo hàm Windowing (dùng để tạo các cặp X, y cho time series data)\n",
    "def slicing_window(df, df_start_idx, df_end_idx, input_size, label_size, offset):\n",
    "    features = [] # Khai báo list dùng để lưu trữ các X\n",
    "    labels = [] # Khai báo list dùng để lưu trữ các y\n",
    "\n",
    "    window_size = input_size + offset # Tính kích thước của window\n",
    "\n",
    "    # Nếu df_end_idx = chỉ mục cuối cùng bảng dữ liệu, cần phải dời xuống 1 khoảng = window size \n",
    "    if df_end_idx == None:\n",
    "        df_end_idx = len(df) - window_size \n",
    "    \n",
    "    # Duyệt qua từng mẫu dữ liệu\n",
    "    for idx in range(df_start_idx, df_end_idx):\n",
    "        feature_end_idx = idx + input_size # Tính chỉ mục kết thúc của X\n",
    "        label_start_idx = idx + window_size - label_size # Tính chỉ mục bắt đầu của y\n",
    "\n",
    "        feature = df[idx:feature_end_idx] # Lấy X\n",
    "        label = df[label_start_idx:(idx+window_size)] # Lấy y\n",
    "\n",
    "        features.append(feature) \n",
    "        labels.append(label)\n",
    "\n",
    "    # Chuyển list thành np.ndarrray\n",
    "    features = np.expand_dims(np.array(features), -1) \n",
    "    labels = np.array(labels)\n",
    "\n",
    "    return features, labels"
   ]
  },
  {
   "cell_type": "code",
   "execution_count": null,
   "metadata": {},
   "outputs": [],
   "source": []
  },
  {
   "cell_type": "code",
   "execution_count": 22,
   "metadata": {},
   "outputs": [
    {
     "data": {
      "text/plain": [
       "0    9.472222\n",
       "1    9.355556\n",
       "2    9.377778\n",
       "3    8.288889\n",
       "4    8.755556\n",
       "5    9.222222\n",
       "6    7.733333\n",
       "Name: Temperature (C), dtype: float64"
      ]
     },
     "execution_count": 22,
     "metadata": {},
     "output_type": "execute_result"
    }
   ],
   "source": [
    "univariate_df = pd.read_csv('temp.csv')\n",
    "univariate_df = univariate_df['Temperature (C)']\n",
    "univariate_df.head(7)"
   ]
  },
  {
   "cell_type": "code",
   "execution_count": null,
   "metadata": {},
   "outputs": [],
   "source": []
  },
  {
   "cell_type": "code",
   "execution_count": null,
   "metadata": {},
   "outputs": [],
   "source": []
  },
  {
   "cell_type": "code",
   "execution_count": 23,
   "metadata": {
    "id": "22Z3GCVz-hFr"
   },
   "outputs": [],
   "source": [
    "INPUT_SIZE = 20 # Dùng `input_size` giờ trước\n",
    "LABEL_SIZE = 6 # Để dự đoán nhiệt độ trong `label_size` giờ\n",
    "OFFSET = 6 # Vào khoảng `offset` giờ tiếp theo \n",
    "BATCH_SIZE = 32"
   ]
  },
  {
   "cell_type": "code",
   "execution_count": 24,
   "metadata": {
    "id": "vCnciV-R6xZ5"
   },
   "outputs": [],
   "source": [
    "dataset_length = len(univariate_df) # Số lượng mẫu dữ liệu trong DataFrame\n",
    "TRAIN_SIZE = 0.7 # Tỉ lệ kích thước tập train\n",
    "VAL_SIZE = 0.2 # Tỉ lệ kích thước tập val\n",
    "# Đổi tỉ lệ thành chỉ mục\n",
    "TRAIN_END_IDX = int(TRAIN_SIZE * dataset_length) \n",
    "VAL_END_IDX = int(VAL_SIZE * dataset_length) + TRAIN_END_IDX\n",
    "\n",
    "# Khởi tạo X, y cho tập train\n",
    "X_train, y_train = slicing_window(univariate_df, \n",
    "                                  df_start_idx=0,\n",
    "                                  df_end_idx=TRAIN_END_IDX,\n",
    "                                  input_size=INPUT_SIZE,\n",
    "                                  label_size=LABEL_SIZE,\n",
    "                                  offset=OFFSET)\n",
    "\n",
    "# Khởi tạo X, y cho tập val\n",
    "X_val, y_val = slicing_window(univariate_df, \n",
    "                                  df_start_idx=TRAIN_END_IDX,\n",
    "                                  df_end_idx=VAL_END_IDX,\n",
    "                                  input_size=INPUT_SIZE,\n",
    "                                  label_size=LABEL_SIZE,\n",
    "                                  offset=OFFSET)\n",
    "\n",
    "# Khởi tạo X, y cho tập test\n",
    "X_test, y_test = slicing_window(univariate_df, \n",
    "                                  df_start_idx=VAL_END_IDX,\n",
    "                                  df_end_idx=None,\n",
    "                                  input_size=INPUT_SIZE,\n",
    "                                  label_size=LABEL_SIZE,\n",
    "                                  offset=OFFSET)"
   ]
  },
  {
   "cell_type": "code",
   "execution_count": 25,
   "metadata": {},
   "outputs": [
    {
     "name": "stdout",
     "output_type": "stream",
     "text": [
      "(67517, 20, 1)\n",
      "(67517, 6)\n"
     ]
    }
   ],
   "source": [
    "print(X_train.shape)\n",
    "print(y_train.shape)"
   ]
  },
  {
   "cell_type": "code",
   "execution_count": null,
   "metadata": {},
   "outputs": [],
   "source": []
  },
  {
   "cell_type": "code",
   "execution_count": null,
   "metadata": {},
   "outputs": [],
   "source": []
  },
  {
   "cell_type": "code",
   "execution_count": 26,
   "metadata": {
    "id": "OOALlQCN_d0R"
   },
   "outputs": [],
   "source": [
    "# Khởi tạo tf.data.Dataset\n",
    "train_ds = tf.data.Dataset.from_tensor_slices((X_train, y_train)).batch(BATCH_SIZE)\n",
    "val_ds = tf.data.Dataset.from_tensor_slices((X_val, y_val)).batch(BATCH_SIZE)\n",
    "test_ds = tf.data.Dataset.from_tensor_slices((X_test, y_test)).batch(BATCH_SIZE)"
   ]
  },
  {
   "cell_type": "code",
   "execution_count": 27,
   "metadata": {
    "id": "mvwssxUmABk1"
   },
   "outputs": [],
   "source": [
    "# Cấu hình các tham số tối ưu cho việc đọc dữ liệu\n",
    "AUTOTUNE = tf.data.AUTOTUNE\n",
    "\n",
    "train_ds = train_ds.cache().prefetch(buffer_size=AUTOTUNE)\n",
    "val_ds = val_ds.cache().prefetch(buffer_size=AUTOTUNE)"
   ]
  },
  {
   "cell_type": "markdown",
   "metadata": {
    "id": "wuHEXCn3SPuM"
   },
   "source": [
    "## **3. Xây dựng mô hình**"
   ]
  },
  {
   "cell_type": "code",
   "execution_count": 28,
   "metadata": {
    "id": "QQLDXfGQLEzc"
   },
   "outputs": [],
   "source": [
    "# Khai báo normalization layer\n",
    "normalize_layer = tf.keras.layers.Normalization(axis=-1)\n",
    "normalize_layer.adapt(np.vstack((X_train, X_val, X_test)))"
   ]
  },
  {
   "cell_type": "code",
   "execution_count": 29,
   "metadata": {
    "id": "kjLcDQOMA3VX"
   },
   "outputs": [],
   "source": [
    "# Xây dựng hàm khởi tạo model\n",
    "def build_model(input_shape):\n",
    "    model = tf.keras.Sequential([\n",
    "        # Input layer (nhận vào 1 string)\n",
    "        tf.keras.Input(shape=input_shape, name='input_layer'),         \n",
    "        normalize_layer,\n",
    "        tf.keras.layers.Flatten(),\n",
    "\n",
    "        # Dense 1 \n",
    "        tf.keras.layers.Dense(32, activation='relu'),      \n",
    "\n",
    "        # Dense 2\n",
    "        tf.keras.layers.Dense(32, activation='relu'),              \n",
    "                       \n",
    "                                \n",
    "        # Output Layer\n",
    "        tf.keras.layers.Dense(LABEL_SIZE, \n",
    "                              kernel_initializer=tf.initializers.GlorotUniform(seed=RANDOM_SEED)) \n",
    "    ],\n",
    "    name='rnn_model')\n",
    "\n",
    "    return model"
   ]
  },
  {
   "cell_type": "code",
   "execution_count": 30,
   "metadata": {
    "colab": {
     "base_uri": "https://localhost:8080/"
    },
    "id": "EpM1-1L9BaYX",
    "outputId": "31865c6b-3148-454f-cfda-e439a2069f28"
   },
   "outputs": [
    {
     "name": "stdout",
     "output_type": "stream",
     "text": [
      "Model: \"rnn_model\"\n",
      "_________________________________________________________________\n",
      " Layer (type)                Output Shape              Param #   \n",
      "=================================================================\n",
      " normalization_1 (Normalizat  (None, 20, 1)            3         \n",
      " ion)                                                            \n",
      "                                                                 \n",
      " flatten_2 (Flatten)         (None, 20)                0         \n",
      "                                                                 \n",
      " dense_5 (Dense)             (None, 32)                672       \n",
      "                                                                 \n",
      " dense_6 (Dense)             (None, 32)                1056      \n",
      "                                                                 \n",
      " dense_7 (Dense)             (None, 6)                 198       \n",
      "                                                                 \n",
      "=================================================================\n",
      "Total params: 1,929\n",
      "Trainable params: 1,926\n",
      "Non-trainable params: 3\n",
      "_________________________________________________________________\n"
     ]
    }
   ],
   "source": [
    "INPUT_SHAPE = X_train.shape[-2:] \n",
    "model = build_model(INPUT_SHAPE)\n",
    "model.summary()"
   ]
  },
  {
   "cell_type": "markdown",
   "metadata": {
    "id": "r1M78tohz61-"
   },
   "source": [
    "## **4. Cấu hình mô hình**"
   ]
  },
  {
   "cell_type": "code",
   "execution_count": 31,
   "metadata": {
    "id": "OuAQ0Tsgz_1f"
   },
   "outputs": [],
   "source": [
    "# Khai báo một số giá trị siêu tham số\n",
    "EPOCHS = 30\n",
    "LR = 1e-3"
   ]
  },
  {
   "cell_type": "code",
   "execution_count": 32,
   "metadata": {
    "id": "AaegD5WG0Av0"
   },
   "outputs": [],
   "source": [
    "# Cấu hình một số thông tin cho mô hình\n",
    "model.compile(\n",
    "    optimizer=tf.keras.optimizers.Adam(learning_rate=LR), # Sử dụng optimizer Adam\n",
    "    loss=tf.keras.losses.MeanSquaredError(), # Sử dụng hàm loss Mean Squared Error\n",
    ")"
   ]
  },
  {
   "cell_type": "markdown",
   "metadata": {
    "id": "wVL6ieFZ0XwO"
   },
   "source": [
    "## **5. Huấn luyện mô hình**"
   ]
  },
  {
   "cell_type": "code",
   "execution_count": 33,
   "metadata": {
    "colab": {
     "base_uri": "https://localhost:8080/"
    },
    "id": "_aXnniiC0Z-8",
    "outputId": "f1461668-e6a0-4721-fe35-d4538fd0a264"
   },
   "outputs": [
    {
     "name": "stdout",
     "output_type": "stream",
     "text": [
      "Epoch 1/30\n",
      "2110/2110 [==============================] - 10s 4ms/step - loss: 30.6193 - val_loss: 7.3416\n",
      "Epoch 2/30\n",
      "2110/2110 [==============================] - 8s 4ms/step - loss: 8.1339 - val_loss: 6.5149\n",
      "Epoch 3/30\n",
      "2110/2110 [==============================] - 8s 4ms/step - loss: 7.5010 - val_loss: 6.3440\n",
      "Epoch 4/30\n",
      "2110/2110 [==============================] - 8s 4ms/step - loss: 7.2431 - val_loss: 6.1852\n",
      "Epoch 5/30\n",
      "2110/2110 [==============================] - 8s 4ms/step - loss: 7.0803 - val_loss: 6.0205\n",
      "Epoch 6/30\n",
      "2110/2110 [==============================] - 8s 4ms/step - loss: 6.9541 - val_loss: 5.8802\n",
      "Epoch 7/30\n",
      "2110/2110 [==============================] - 8s 4ms/step - loss: 6.8507 - val_loss: 5.7583\n",
      "Epoch 8/30\n",
      "2110/2110 [==============================] - 8s 4ms/step - loss: 6.7525 - val_loss: 5.6503\n",
      "Epoch 9/30\n",
      "2110/2110 [==============================] - 8s 4ms/step - loss: 6.6609 - val_loss: 5.5768\n",
      "Epoch 10/30\n",
      "2110/2110 [==============================] - 8s 4ms/step - loss: 6.5771 - val_loss: 5.5189\n",
      "Epoch 11/30\n",
      "2110/2110 [==============================] - 8s 4ms/step - loss: 6.5075 - val_loss: 5.4961\n",
      "Epoch 12/30\n",
      "2110/2110 [==============================] - 8s 4ms/step - loss: 6.4438 - val_loss: 5.4792\n",
      "Epoch 13/30\n",
      "2110/2110 [==============================] - 8s 4ms/step - loss: 6.3892 - val_loss: 5.4324\n",
      "Epoch 14/30\n",
      "2110/2110 [==============================] - 8s 4ms/step - loss: 6.3399 - val_loss: 5.4241\n",
      "Epoch 15/30\n",
      "2110/2110 [==============================] - 8s 4ms/step - loss: 6.2889 - val_loss: 5.4115\n",
      "Epoch 16/30\n",
      "2110/2110 [==============================] - 8s 4ms/step - loss: 6.2417 - val_loss: 5.3662\n",
      "Epoch 17/30\n",
      "2110/2110 [==============================] - 9s 4ms/step - loss: 6.1978 - val_loss: 5.3281\n",
      "Epoch 18/30\n",
      "2110/2110 [==============================] - 8s 4ms/step - loss: 6.1639 - val_loss: 5.3033\n",
      "Epoch 19/30\n",
      "2110/2110 [==============================] - 9s 4ms/step - loss: 6.1266 - val_loss: 5.2878\n",
      "Epoch 20/30\n",
      "2110/2110 [==============================] - 9s 4ms/step - loss: 6.0981 - val_loss: 5.2656\n",
      "Epoch 21/30\n",
      "2110/2110 [==============================] - 9s 4ms/step - loss: 6.0729 - val_loss: 5.2686\n",
      "Epoch 22/30\n",
      "2110/2110 [==============================] - 9s 4ms/step - loss: 6.0416 - val_loss: 5.2414\n",
      "Epoch 23/30\n",
      "2110/2110 [==============================] - 9s 4ms/step - loss: 6.0174 - val_loss: 5.2275\n",
      "Epoch 24/30\n",
      "2110/2110 [==============================] - 9s 4ms/step - loss: 5.9892 - val_loss: 5.2223\n",
      "Epoch 25/30\n",
      "2110/2110 [==============================] - 8s 4ms/step - loss: 5.9635 - val_loss: 5.2110\n",
      "Epoch 26/30\n",
      "2110/2110 [==============================] - 7s 3ms/step - loss: 5.9402 - val_loss: 5.1979\n",
      "Epoch 27/30\n",
      "2110/2110 [==============================] - 8s 4ms/step - loss: 5.9201 - val_loss: 5.2010\n",
      "Epoch 28/30\n",
      "2110/2110 [==============================] - 8s 4ms/step - loss: 5.9031 - val_loss: 5.1766\n",
      "Epoch 29/30\n",
      "2110/2110 [==============================] - 8s 4ms/step - loss: 5.8837 - val_loss: 5.1800\n",
      "Epoch 30/30\n",
      "2110/2110 [==============================] - 6s 3ms/step - loss: 5.8678 - val_loss: 5.1695\n"
     ]
    }
   ],
   "source": [
    "history = model.fit(train_ds, \n",
    "                    validation_data=val_ds,\n",
    "                    epochs=EPOCHS)"
   ]
  },
  {
   "cell_type": "markdown",
   "metadata": {
    "id": "3n0mStvxD_3i"
   },
   "source": [
    "## **6. Đánh giá và trực quan hóa**"
   ]
  },
  {
   "cell_type": "code",
   "execution_count": 34,
   "metadata": {
    "colab": {
     "base_uri": "https://localhost:8080/"
    },
    "id": "io3SVbwLEIEA",
    "outputId": "75ccbc74-a622-4a76-ecd3-d1cb1861ea01"
   },
   "outputs": [
    {
     "name": "stdout",
     "output_type": "stream",
     "text": [
      "301/301 [==============================] - 1s 2ms/step - loss: 4.7769\n"
     ]
    }
   ],
   "source": [
    "# Đánh giá mô hình trên tập test\n",
    "test_evaluation = model.evaluate(test_ds)"
   ]
  },
  {
   "cell_type": "code",
   "execution_count": 35,
   "metadata": {
    "colab": {
     "base_uri": "https://localhost:8080/",
     "height": 350
    },
    "id": "Z0gouvt6EIxk",
    "outputId": "bafbdf28-5737-44a7-b920-63d566eca367"
   },
   "outputs": [
    {
     "data": {
      "image/png": "[encoded data removed]",
      "text/plain": [
       "<Figure size 1000x500 with 2 Axes>"
      ]
     },
     "metadata": {},
     "output_type": "display_data"
    }
   ],
   "source": [
    "train_loss = history.history['loss']# Đọc thông tin loss trên tập train\n",
    "val_loss = history.history['val_loss'] # Đọc thông tin loss trên tập val\n",
    "\n",
    "plt.figure(figsize=(10, 5)) # Cài đặt kích thước khung ảnh\n",
    "\n",
    "plt.subplot(1, 2, 1) # Khởi tạo khung ảnh cho training loss\n",
    "plt.xlabel('Epochs') # Hiển thị tên trục hoành là 'Epochs'\n",
    "plt.ylabel('Loss') # Hiển thị tên trục tung là 'Loss'\n",
    "plt.title('Training loss') # Hiển thị title của khung ảnh hiện tại là 'Training Loss'\n",
    "plt.plot(train_loss, color='red') # Vẽ đường giá trị loss trên tập train qua từng epoch (đường vẽ màu đỏ)\n",
    "\n",
    "plt.subplot(1, 2, 2) # Khởi tạo khung ảnh cho val loss\n",
    "plt.xlabel('Epochs') # Hiển thị tên trục hoành là 'Epochs'\n",
    "plt.ylabel('Loss') # Hiển thị tên trục tung là 'Loss'\n",
    "plt.title('Validation loss') # Hiển thị title của khung ảnh hiện tại là 'Validation loss'\n",
    "plt.plot(val_loss, color='orange') # Vẽ đường giá trị loss trên tập val qua từng epoch (đường vẽ màu đỏ)\n",
    "\n",
    "plt.show() # Hiển thị 2 khung ảnh nhỏ"
   ]
  },
  {
   "cell_type": "code",
   "execution_count": null,
   "metadata": {},
   "outputs": [],
   "source": []
  }
 ],
 "metadata": {
  "accelerator": "GPU",
  "colab": {
   "provenance": []
  },
  "gpuClass": "standard",
  "kernelspec": {
   "display_name": "Python 3 (ipykernel)",
   "language": "python",
   "name": "python3"
  },
  "language_info": {
   "codemirror_mode": {
    "name": "ipython",
    "version": 3
   },
   "file_extension": ".py",
   "mimetype": "text/x-python",
   "name": "python",
   "nbconvert_exporter": "python",
   "pygments_lexer": "ipython3",
   "version": "3.9.13"
  }
 },
 "nbformat": 4,
 "nbformat_minor": 1
}
