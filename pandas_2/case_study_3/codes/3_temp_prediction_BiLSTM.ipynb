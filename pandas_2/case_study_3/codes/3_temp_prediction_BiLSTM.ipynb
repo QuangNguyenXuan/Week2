{
 "cells": [
  {
   "cell_type": "markdown",
   "metadata": {
    "id": "rI58CCX5Rvbe"
   },
   "source": [
    "## **1. Import các thư viện cần thiết**"
   ]
  },
  {
   "cell_type": "code",
   "execution_count": 1,
   "metadata": {
    "id": "zahFT_WUAqUq"
   },
   "outputs": [],
   "source": [
    "import os   \n",
    "import numpy as np\n",
    "import pandas as pd\n",
    "import matplotlib.pyplot as plt\n",
    "import tensorflow as tf\n",
    "\n",
    "from sklearn.model_selection import train_test_split\n",
    "\n",
    "RANDOM_SEED = 1\n",
    "tf.random.set_seed(RANDOM_SEED)"
   ]
  },
  {
   "cell_type": "markdown",
   "metadata": {
    "id": "FoNjWi_RSL4q"
   },
   "source": [
    "## **2. Chuẩn bị dữ liệu**"
   ]
  },
  {
   "cell_type": "code",
   "execution_count": 2,
   "metadata": {
    "id": "dRJ3rUOIv7Rv"
   },
   "outputs": [],
   "source": [
    "# Khai báo hàm Windowing (dùng để tạo các cặp X, y cho time series data)\n",
    "def slicing_window(df, df_start_idx, df_end_idx, input_size, label_size, offset):\n",
    "    features = [] # Khai báo list dùng để lưu trữ các X\n",
    "    labels = [] # Khai báo list dùng để lưu trữ các y\n",
    "\n",
    "    window_size = input_size + offset # Tính kích thước của window\n",
    "\n",
    "    # Nếu df_end_idx = chỉ mục cuối cùng bảng dữ liệu, cần phải dời xuống 1 khoảng = window size \n",
    "    if df_end_idx == None:\n",
    "        df_end_idx = len(df) - window_size \n",
    "    \n",
    "    # Duyệt qua từng mẫu dữ liệu\n",
    "    for idx in range(df_start_idx, df_end_idx):\n",
    "        feature_end_idx = idx + input_size # Tính chỉ mục kết thúc của X\n",
    "        label_start_idx = idx + window_size - label_size # Tính chỉ mục bắt đầu của y\n",
    "\n",
    "        feature = df[idx:feature_end_idx] # Lấy X\n",
    "        label = df[label_start_idx:(idx+window_size)] # Lấy y\n",
    "\n",
    "        features.append(feature) \n",
    "        labels.append(label)\n",
    "\n",
    "    # Chuyển list thành np.ndarrray\n",
    "    features = np.expand_dims(np.array(features), -1) \n",
    "    labels = np.array(labels)\n",
    "\n",
    "    return features, labels"
   ]
  },
  {
   "cell_type": "code",
   "execution_count": 2,
   "metadata": {
    "id": "GFTkW3NURAbN"
   },
   "outputs": [],
   "source": []
  },
  {
   "cell_type": "code",
   "execution_count": 3,
   "metadata": {
    "colab": {
     "base_uri": "https://localhost:8080/"
    },
    "id": "XVgEP6bURAbN",
    "outputId": "fe2afd0d-0569-4e89-c064-13b4f42519be"
   },
   "outputs": [
    {
     "data": {
      "text/plain": [
       "0    9.472222\n",
       "1    9.355556\n",
       "2    9.377778\n",
       "3    8.288889\n",
       "4    8.755556\n",
       "5    9.222222\n",
       "6    7.733333\n",
       "Name: Temperature (C), dtype: float64"
      ]
     },
     "execution_count": 3,
     "metadata": {},
     "output_type": "execute_result"
    }
   ],
   "source": [
    "univariate_df = pd.read_csv('https://www.dropbox.com/s/2ylwh7bqah0lta5/temp.csv?dl=1')\n",
    "univariate_df = univariate_df['Temperature (C)']\n",
    "univariate_df.head(7)"
   ]
  },
  {
   "cell_type": "code",
   "execution_count": 3,
   "metadata": {
    "id": "e6Qq5UUdRAbQ"
   },
   "outputs": [],
   "source": []
  },
  {
   "cell_type": "code",
   "execution_count": 4,
   "metadata": {
    "id": "22Z3GCVz-hFr"
   },
   "outputs": [],
   "source": [
    "INPUT_SIZE = 20 # Dùng `input_size` giờ trước\n",
    "LABEL_SIZE = 6 # Để dự đoán nhiệt độ trong `label_size` giờ\n",
    "OFFSET = 6 # Vào khoảng `offset` giờ tiếp theo \n",
    "BATCH_SIZE = 32"
   ]
  },
  {
   "cell_type": "code",
   "execution_count": 5,
   "metadata": {
    "id": "vCnciV-R6xZ5"
   },
   "outputs": [],
   "source": [
    "dataset_length = len(univariate_df) # Số lượng mẫu dữ liệu trong DataFrame\n",
    "TRAIN_SIZE = 0.7 # Tỉ lệ kích thước tập train\n",
    "VAL_SIZE = 0.2 # Tỉ lệ kích thước tập val\n",
    "# Đổi tỉ lệ thành chỉ mục\n",
    "TRAIN_END_IDX = int(TRAIN_SIZE * dataset_length) \n",
    "VAL_END_IDX = int(VAL_SIZE * dataset_length) + TRAIN_END_IDX\n",
    "\n",
    "# Khởi tạo X, y cho tập train\n",
    "X_train, y_train = slicing_window(univariate_df, \n",
    "                                  df_start_idx=0,\n",
    "                                  df_end_idx=TRAIN_END_IDX,\n",
    "                                  input_size=INPUT_SIZE,\n",
    "                                  label_size=LABEL_SIZE,\n",
    "                                  offset=OFFSET)\n",
    "\n",
    "# Khởi tạo X, y cho tập val\n",
    "X_val, y_val = slicing_window(univariate_df, \n",
    "                                  df_start_idx=TRAIN_END_IDX,\n",
    "                                  df_end_idx=VAL_END_IDX,\n",
    "                                  input_size=INPUT_SIZE,\n",
    "                                  label_size=LABEL_SIZE,\n",
    "                                  offset=OFFSET)\n",
    "\n",
    "# Khởi tạo X, y cho tập test\n",
    "X_test, y_test = slicing_window(univariate_df, \n",
    "                                  df_start_idx=VAL_END_IDX,\n",
    "                                  df_end_idx=None,\n",
    "                                  input_size=INPUT_SIZE,\n",
    "                                  label_size=LABEL_SIZE,\n",
    "                                  offset=OFFSET)"
   ]
  },
  {
   "cell_type": "code",
   "execution_count": 6,
   "metadata": {
    "id": "OOALlQCN_d0R"
   },
   "outputs": [],
   "source": [
    "# Khởi tạo tf.data.Dataset\n",
    "train_ds = tf.data.Dataset.from_tensor_slices((X_train, y_train)).batch(BATCH_SIZE)\n",
    "val_ds = tf.data.Dataset.from_tensor_slices((X_val, y_val)).batch(BATCH_SIZE)\n",
    "test_ds = tf.data.Dataset.from_tensor_slices((X_test, y_test)).batch(BATCH_SIZE)"
   ]
  },
  {
   "cell_type": "code",
   "execution_count": 7,
   "metadata": {
    "id": "mvwssxUmABk1"
   },
   "outputs": [],
   "source": [
    "# Cấu hình các tham số tối ưu cho việc đọc dữ liệu\n",
    "AUTOTUNE = tf.data.AUTOTUNE\n",
    "\n",
    "train_ds = train_ds.cache().prefetch(buffer_size=AUTOTUNE)\n",
    "val_ds = val_ds.cache().prefetch(buffer_size=AUTOTUNE)"
   ]
  },
  {
   "cell_type": "markdown",
   "metadata": {
    "id": "wuHEXCn3SPuM"
   },
   "source": [
    "## **3. Xây dựng mô hình**"
   ]
  },
  {
   "cell_type": "code",
   "execution_count": 8,
   "metadata": {
    "id": "QQLDXfGQLEzc"
   },
   "outputs": [],
   "source": [
    "# Khai báo normalization layer\n",
    "normalize_layer = tf.keras.layers.Normalization(axis=-1)\n",
    "normalize_layer.adapt(np.vstack((X_train, X_val, X_test)))"
   ]
  },
  {
   "cell_type": "code",
   "execution_count": 9,
   "metadata": {
    "id": "kjLcDQOMA3VX"
   },
   "outputs": [],
   "source": [
    "# Xây dựng hàm khởi tạo model\n",
    "def build_model(input_shape):\n",
    "    model = tf.keras.Sequential([\n",
    "        # Input layer (nhận vào 1 string)\n",
    "        tf.keras.Input(shape=input_shape, name='input_layer'), \n",
    "\n",
    "        normalize_layer,\n",
    "\n",
    "        # BiLSTM Layer 1 \n",
    "        tf.keras.layers.Bidirectional(tf.keras.layers.LSTM(16, \n",
    "                                                           return_sequences=True, \n",
    "                                                           kernel_initializer=tf.initializers.GlorotUniform(seed=RANDOM_SEED)),\n",
    "                                      name='bilstm_layer_1'), \n",
    "\n",
    "        # BiLSTM Layer 2\n",
    "        tf.keras.layers.Bidirectional(tf.keras.layers.LSTM(16, \n",
    "                                                           return_sequences=True, \n",
    "                                                           kernel_initializer=tf.initializers.GlorotUniform(seed=RANDOM_SEED)),\n",
    "                                      name='bilstm_layer_2'),                    \n",
    "                    \n",
    "        # BiLSTM Layer 3\n",
    "        tf.keras.layers.Bidirectional(tf.keras.layers.LSTM(16,\n",
    "                                                           kernel_initializer=tf.initializers.GlorotUniform(seed=RANDOM_SEED)), \n",
    "                                      name='bilstm_layer_3'), \n",
    "                                \n",
    "        # Output Layer\n",
    "        tf.keras.layers.Dense(LABEL_SIZE, \n",
    "                              kernel_initializer=tf.initializers.GlorotUniform(seed=RANDOM_SEED),\n",
    "                              name='output_layer') \n",
    "    ],\n",
    "    name='bilstm_model')\n",
    "\n",
    "    return model"
   ]
  },
  {
   "cell_type": "code",
   "execution_count": 10,
   "metadata": {
    "colab": {
     "base_uri": "https://localhost:8080/"
    },
    "id": "EpM1-1L9BaYX",
    "outputId": "019da979-14ad-4732-be80-aea42a15e734"
   },
   "outputs": [
    {
     "name": "stdout",
     "output_type": "stream",
     "text": [
      "Model: \"bilstm_model\"\n",
      "_________________________________________________________________\n",
      " Layer (type)                Output Shape              Param #   \n",
      "=================================================================\n",
      " normalization (Normalizatio  (None, 20, 1)            3         \n",
      " n)                                                              \n",
      "                                                                 \n",
      " bilstm_layer_1 (Bidirection  (None, 20, 32)           2304      \n",
      " al)                                                             \n",
      "                                                                 \n",
      " bilstm_layer_2 (Bidirection  (None, 20, 32)           6272      \n",
      " al)                                                             \n",
      "                                                                 \n",
      " bilstm_layer_3 (Bidirection  (None, 32)               6272      \n",
      " al)                                                             \n",
      "                                                                 \n",
      " output_layer (Dense)        (None, 6)                 198       \n",
      "                                                                 \n",
      "=================================================================\n",
      "Total params: 15,049\n",
      "Trainable params: 15,046\n",
      "Non-trainable params: 3\n",
      "_________________________________________________________________\n"
     ]
    }
   ],
   "source": [
    "INPUT_SHAPE = X_train.shape[-2:] \n",
    "model = build_model(INPUT_SHAPE)\n",
    "model.summary()"
   ]
  },
  {
   "cell_type": "markdown",
   "metadata": {
    "id": "r1M78tohz61-"
   },
   "source": [
    "## **4. Cấu hình mô hình**"
   ]
  },
  {
   "cell_type": "code",
   "execution_count": 11,
   "metadata": {
    "id": "OuAQ0Tsgz_1f"
   },
   "outputs": [],
   "source": [
    "# Khai báo một số giá trị siêu tham số\n",
    "EPOCHS = 35\n",
    "LR = 1e-3"
   ]
  },
  {
   "cell_type": "code",
   "execution_count": 12,
   "metadata": {
    "id": "AaegD5WG0Av0"
   },
   "outputs": [],
   "source": [
    "# Cấu hình một số thông tin cho mô hình\n",
    "model.compile(\n",
    "    optimizer=tf.keras.optimizers.Adam(learning_rate=LR), # Sử dụng optimizer Adam\n",
    "    loss=tf.keras.losses.MeanSquaredError(), # Sử dụng hàm loss Mean Squared Error\n",
    ")"
   ]
  },
  {
   "cell_type": "markdown",
   "metadata": {
    "id": "wVL6ieFZ0XwO"
   },
   "source": [
    "## **5. Huấn luyện mô hình**"
   ]
  },
  {
   "cell_type": "code",
   "execution_count": 13,
   "metadata": {
    "colab": {
     "base_uri": "https://localhost:8080/"
    },
    "id": "_aXnniiC0Z-8",
    "outputId": "153bb4ea-0639-469a-9125-00fcb8b8cdfa"
   },
   "outputs": [
    {
     "name": "stdout",
     "output_type": "stream",
     "text": [
      "Epoch 1/35\n",
      "2110/2110 [==============================] - 45s 14ms/step - loss: 49.0239 - val_loss: 17.0596\n",
      "Epoch 2/35\n",
      "2110/2110 [==============================] - 29s 14ms/step - loss: 12.3249 - val_loss: 10.4427\n",
      "Epoch 3/35\n",
      "2110/2110 [==============================] - 30s 14ms/step - loss: 8.7254 - val_loss: 7.8007\n",
      "Epoch 4/35\n",
      "2110/2110 [==============================] - 28s 13ms/step - loss: 7.6475 - val_loss: 6.7562\n",
      "Epoch 5/35\n",
      "2110/2110 [==============================] - 29s 14ms/step - loss: 7.2259 - val_loss: 6.2338\n",
      "Epoch 6/35\n",
      "2110/2110 [==============================] - 29s 14ms/step - loss: 6.9263 - val_loss: 5.9635\n",
      "Epoch 7/35\n",
      "2110/2110 [==============================] - 28s 13ms/step - loss: 6.6920 - val_loss: 5.8012\n",
      "Epoch 8/35\n",
      "2110/2110 [==============================] - 29s 14ms/step - loss: 6.5052 - val_loss: 5.6993\n",
      "Epoch 9/35\n",
      "2110/2110 [==============================] - 28s 14ms/step - loss: 6.3492 - val_loss: 5.5895\n",
      "Epoch 10/35\n",
      "2110/2110 [==============================] - 29s 14ms/step - loss: 6.2006 - val_loss: 5.4305\n",
      "Epoch 11/35\n",
      "2110/2110 [==============================] - 28s 13ms/step - loss: 6.0607 - val_loss: 5.2966\n",
      "Epoch 12/35\n",
      "2110/2110 [==============================] - 28s 13ms/step - loss: 5.9302 - val_loss: 5.1981\n",
      "Epoch 13/35\n",
      "2110/2110 [==============================] - 29s 14ms/step - loss: 5.8062 - val_loss: 5.1320\n",
      "Epoch 14/35\n",
      "2110/2110 [==============================] - 28s 13ms/step - loss: 5.7031 - val_loss: 5.0887\n",
      "Epoch 15/35\n",
      "2110/2110 [==============================] - 28s 13ms/step - loss: 5.6186 - val_loss: 5.0553\n",
      "Epoch 16/35\n",
      "2110/2110 [==============================] - 31s 15ms/step - loss: 5.5485 - val_loss: 5.0311\n",
      "Epoch 17/35\n",
      "2110/2110 [==============================] - 28s 13ms/step - loss: 5.4842 - val_loss: 5.0053\n",
      "Epoch 18/35\n",
      "2110/2110 [==============================] - 29s 14ms/step - loss: 5.4335 - val_loss: 4.9792\n",
      "Epoch 19/35\n",
      "2110/2110 [==============================] - 28s 13ms/step - loss: 5.3877 - val_loss: 4.9746\n",
      "Epoch 20/35\n",
      "2110/2110 [==============================] - 28s 13ms/step - loss: 5.3421 - val_loss: 4.9522\n",
      "Epoch 21/35\n",
      "2110/2110 [==============================] - 29s 14ms/step - loss: 5.2967 - val_loss: 4.9396\n",
      "Epoch 22/35\n",
      "2110/2110 [==============================] - 28s 13ms/step - loss: 5.2585 - val_loss: 4.9333\n",
      "Epoch 23/35\n",
      "2110/2110 [==============================] - 28s 13ms/step - loss: 5.2272 - val_loss: 4.9122\n",
      "Epoch 24/35\n",
      "2110/2110 [==============================] - 28s 13ms/step - loss: 5.1881 - val_loss: 4.9083\n",
      "Epoch 25/35\n",
      "2110/2110 [==============================] - 28s 13ms/step - loss: 5.1560 - val_loss: 4.9014\n",
      "Epoch 26/35\n",
      "2110/2110 [==============================] - 29s 14ms/step - loss: 5.1229 - val_loss: 4.8930\n",
      "Epoch 27/35\n",
      "2110/2110 [==============================] - 28s 14ms/step - loss: 5.0893 - val_loss: 4.8937\n",
      "Epoch 28/35\n",
      "2110/2110 [==============================] - 28s 13ms/step - loss: 5.0608 - val_loss: 4.8905\n",
      "Epoch 29/35\n",
      "2110/2110 [==============================] - 29s 14ms/step - loss: 5.0285 - val_loss: 4.8895\n",
      "Epoch 30/35\n",
      "2110/2110 [==============================] - 28s 13ms/step - loss: 5.0028 - val_loss: 4.8921\n",
      "Epoch 31/35\n",
      "2110/2110 [==============================] - 28s 13ms/step - loss: 4.9719 - val_loss: 4.8820\n",
      "Epoch 32/35\n",
      "2110/2110 [==============================] - 28s 13ms/step - loss: 4.9362 - val_loss: 4.8860\n",
      "Epoch 33/35\n",
      "2110/2110 [==============================] - 28s 13ms/step - loss: 4.9053 - val_loss: 4.8785\n",
      "Epoch 34/35\n",
      "2110/2110 [==============================] - 29s 14ms/step - loss: 4.8829 - val_loss: 4.8796\n",
      "Epoch 35/35\n",
      "2110/2110 [==============================] - 28s 13ms/step - loss: 4.8641 - val_loss: 4.8686\n"
     ]
    }
   ],
   "source": [
    "history = model.fit(train_ds, \n",
    "                    validation_data=val_ds,\n",
    "                    epochs=EPOCHS)"
   ]
  },
  {
   "cell_type": "markdown",
   "metadata": {
    "id": "3n0mStvxD_3i"
   },
   "source": [
    "## **6. Đánh giá và trực quan hóa**"
   ]
  },
  {
   "cell_type": "code",
   "execution_count": 14,
   "metadata": {
    "colab": {
     "base_uri": "https://localhost:8080/"
    },
    "id": "io3SVbwLEIEA",
    "outputId": "c136326a-4b95-42c2-f50c-766c4fa1e6e5"
   },
   "outputs": [
    {
     "name": "stdout",
     "output_type": "stream",
     "text": [
      "301/301 [==============================] - 2s 5ms/step - loss: 4.4584\n"
     ]
    }
   ],
   "source": [
    "# Đánh giá mô hình trên tập test\n",
    "test_evaluation = model.evaluate(test_ds)"
   ]
  },
  {
   "cell_type": "code",
   "execution_count": 15,
   "metadata": {
    "colab": {
     "base_uri": "https://localhost:8080/",
     "height": 350
    },
    "id": "Z0gouvt6EIxk",
    "outputId": "f2d7396d-299e-4b65-d5c1-e21c3f7b0906"
   },
   "outputs": [
    {
     "data": {
      "image/png": "[encoded data removed]",
      "text/plain": [
       "<Figure size 720x360 with 2 Axes>"
      ]
     },
     "metadata": {
      "needs_background": "light"
     },
     "output_type": "display_data"
    }
   ],
   "source": [
    "train_loss = history.history['loss']# Đọc thông tin loss trên tập train\n",
    "val_loss = history.history['val_loss'] # Đọc thông tin loss trên tập val\n",
    "\n",
    "plt.figure(figsize=(10, 5)) # Cài đặt kích thước khung ảnh\n",
    "\n",
    "plt.subplot(1, 2, 1) # Khởi tạo khung ảnh cho training loss\n",
    "plt.xlabel('Epochs') # Hiển thị tên trục hoành là 'Epochs'\n",
    "plt.ylabel('Loss') # Hiển thị tên trục tung là 'Loss'\n",
    "plt.title('Training loss') # Hiển thị title của khung ảnh hiện tại là 'Training Loss'\n",
    "plt.plot(train_loss, color='red') # Vẽ đường giá trị loss trên tập train qua từng epoch (đường vẽ màu đỏ)\n",
    "\n",
    "plt.subplot(1, 2, 2) # Khởi tạo khung ảnh cho val loss\n",
    "plt.xlabel('Epochs') # Hiển thị tên trục hoành là 'Epochs'\n",
    "plt.ylabel('Loss') # Hiển thị tên trục tung là 'Loss'\n",
    "plt.title('Validation loss') # Hiển thị title của khung ảnh hiện tại là 'Validation loss'\n",
    "plt.plot(val_loss, color='orange') # Vẽ đường giá trị loss trên tập val qua từng epoch (đường vẽ màu đỏ)\n",
    "\n",
    "plt.show() # Hiển thị 2 khung ảnh nhỏ"
   ]
  },
  {
   "cell_type": "code",
   "execution_count": null,
   "metadata": {
    "id": "4ekFZIDvRAbh"
   },
   "outputs": [],
   "source": []
  }
 ],
 "metadata": {
  "accelerator": "GPU",
  "colab": {
   "provenance": []
  },
  "gpuClass": "standard",
  "kernelspec": {
   "display_name": "Python 3 (ipykernel)",
   "language": "python",
   "name": "python3"
  },
  "language_info": {
   "codemirror_mode": {
    "name": "ipython",
    "version": 3
   },
   "file_extension": ".py",
   "mimetype": "text/x-python",
   "name": "python",
   "nbconvert_exporter": "python",
   "pygments_lexer": "ipython3",
   "version": "3.9.13"
  }
 },
 "nbformat": 4,
 "nbformat_minor": 1
}
